{
  "nbformat": 4,
  "nbformat_minor": 0,
  "metadata": {
    "colab": {
      "name": "clean_data.ipynb",
      "provenance": [],
      "collapsed_sections": []
    },
    "kernelspec": {
      "name": "python3",
      "display_name": "Python 3"
    },
    "language_info": {
      "name": "python"
    }
  },
  "cells": [
    {
      "cell_type": "code",
      "source": [
        "from typing import Dict\n",
        "\n",
        "import pandas as pd\n",
        "import os\n",
        "\n",
        "from datetime import datetime\n",
        "from pytz import timezone"
      ],
      "metadata": {
        "id": "bkMKEM0VXs-7"
      },
      "execution_count": 1,
      "outputs": []
    },
    {
      "cell_type": "code",
      "source": [
        "from google.colab import drive\n",
        "drive.mount('/content/drive')"
      ],
      "metadata": {
        "colab": {
          "base_uri": "https://localhost:8080/"
        },
        "id": "mdlv6fdjXIOp",
        "outputId": "c32cd2f9-652f-4bdf-f36f-77bf20555b31"
      },
      "execution_count": 2,
      "outputs": [
        {
          "output_type": "stream",
          "name": "stdout",
          "text": [
            "Mounted at /content/drive\n"
          ]
        }
      ]
    },
    {
      "cell_type": "code",
      "source": [
        "if not os.path.exists('/content/drive/MyDrive/'):\n",
        "    raise Exception(\"ERROR: Mount Google Drive before continuing!\")\n",
        "\n",
        "BASE_DIR = '/content/drive/MyDrive/Data Science for Social Good - Spring 2022/data/'\n",
        "SCRAPE_DIR = BASE_DIR + 'scraped_files/'\n",
        "DATA_DIR = SCRAPE_DIR + 'DATA/'\n",
        "CLEAN_DIR = SCRAPE_DIR + 'CLEAN/'\n",
        "MERGED_DIR = SCRAPE_DIR + 'MERGED_COUNTIES/'\n",
        "\n",
        "CURRENT_DATE = datetime.now(timezone('US/Eastern')).strftime('%m-%d-%Y')"
      ],
      "metadata": {
        "id": "pQLkhi85XBId"
      },
      "execution_count": 3,
      "outputs": []
    },
    {
      "cell_type": "markdown",
      "source": [
        "# Formatter for Consistency\n",
        "\n",
        "---\n",
        "\n",
        "We aren't sure if there can be keys other than the ones listed below. \n",
        "\n",
        "For previously unseen keys, we use str.upper() to give them a default value because we want to be able to automate the web scraper, so we want to handle errors without stopping.\n",
        "\n",
        "Any previously unseen keys should be added to the dictionary along with a value to ensure consistency.\n",
        "\n",
        "---\n",
        "\n",
        "## **Ensure all tuples end with a comma**\n",
        "\n",
        "If we have a tuple of a single element, it should look like:  \n",
        "(MY_ELEMENT,)\n",
        "\n",
        "If we do (MY_ELEMENT) this will get parsed character by character, since (MY_ELEMENT) is equivalent to the string MY_ELEMENT."
      ],
      "metadata": {
        "id": "4_iQCJCaWl4c"
      }
    },
    {
      "cell_type": "code",
      "source": [
        "INCONSISTENT_COLUMNS = ['Race', 'Sex', 'Eye Color', 'Hair Color']\n",
        "UNKNOWN_VAL = 'N/A'\n",
        "\n",
        "# We use many-to-one mappings (Dict[Tuple, str]) for convenience - easier to add mappings\n",
        "# We convert them to one-to-one dictionaries later\n",
        "RACE_MAPPINGS = {\n",
        "    ('B', 'Black', 'BLACK',): 'BLACK',\n",
        "    ('W', 'White', 'WHITE',): 'WHITE',\n",
        "    ('H', 'Hispanic', 'HISPANIC',): 'HISPANIC',\n",
        "    ('A', 'INDIAN',): 'ASIAN',\n",
        "    ('Other',): 'OTHER',\n",
        "    ('U', 'UNKNOWN', 'UNDECIDED', 'N/A',): UNKNOWN_VAL,\n",
        "}\n",
        "\n",
        "GENDER_MAPPINGS = {\n",
        "    ('F', 'Female', 'FEMALE',): 'FEMALE',\n",
        "    ('M', 'Male', 'MALE',): 'MALE',\n",
        "    ('',): UNKNOWN_VAL,\n",
        "}\n",
        "\n",
        "EYE_COLOR_MAPPINGS = {\n",
        "    ('GRN', 'Green', 'GREEN',): 'GREEN',\n",
        "    ('HAZ', 'Hazel', 'HAZEL',): 'HAZEL',\n",
        "    ('BLU', 'Blue', 'BLUE',): 'BLUE',\n",
        "    ('BRO', 'Brown', 'BROWN',): 'BROWN',\n",
        "    ('DARK BROWN',): 'DARK BROWN',\n",
        "    ('GRY', 'Gray', 'GRAY',): 'GREY',\n",
        "    ('BLK', 'Black', 'BLACK',): 'BLACK',\n",
        "    ('MAROON',): 'MAROON',\n",
        "    ('UNKN', 'Unknown', 'UNKNOWN',): UNKNOWN_VAL,\n",
        "}\n",
        "\n",
        "HAIR_COLOR_MAPPINGS = {\n",
        "    ('BLK', 'Black', 'BLACK',): 'BLACK',\n",
        "    ('BRO', 'Brown', 'BROWN',): 'BROWN',\n",
        "    ('Blue', 'BLUE',): 'BLUE',\n",
        "    ('GRY', 'Gray', 'GRAY', 'GREY',): 'GREY',\n",
        "    ('WHI', 'White', 'WHITE',): 'WHITE',\n",
        "    ('Red', 'RED',): 'RED',\n",
        "    ('BAL', 'Bald', 'BALD',): 'BALD',\n",
        "    ('Auburn', 'AUBURN',): 'AUBURN',\n",
        "    ('SDY', 'Sandy', 'SANDY',): 'SANDY',\n",
        "    ('BLN', 'Blond', 'BLOND', 'Blonde', 'BLONDE',): 'BLONDE',\n",
        "    ('GREEN',): 'GREEN',\n",
        "    ('Pink', 'PINK',): 'PINK',\n",
        "    ('PURPLE',): 'PURPLE',\n",
        "    ('MULTICOLORED',): 'MULTICOLORED',\n",
        "    ('XXX', 'Unknown', 'NONE',): UNKNOWN_VAL,\n",
        "}"
      ],
      "metadata": {
        "id": "xKGGqV4ckoYo"
      },
      "execution_count": 7,
      "outputs": []
    },
    {
      "cell_type": "code",
      "execution_count": 9,
      "metadata": {
        "id": "KoCfjWFYWgGS"
      },
      "outputs": [],
      "source": [
        "class Formatter():\n",
        "    class FormatterDict(dict):\n",
        "        \"\"\"Custom class to handle missing keys by subclassing dict. Currently returns str.upper() for missing keys.\"\"\"\n",
        "        def __missing__(self, key: str) -> str:\n",
        "            print(\"WARNING: Missing key:\", key)\n",
        "            return str.upper(key)\n",
        "\n",
        "    def __init__(self) -> None:\n",
        "        self.race_mappings = self._convert_mapping_to_dict(RACE_MAPPINGS)\n",
        "        self.gender_mappings = self._convert_mapping_to_dict(GENDER_MAPPINGS)\n",
        "        self.eye_color_mappings = self._convert_mapping_to_dict(EYE_COLOR_MAPPINGS)\n",
        "        self.hair_color_mappings = self._convert_mapping_to_dict(HAIR_COLOR_MAPPINGS)\n",
        "\n",
        "    def get_mappings(self, name: str) -> Dict:\n",
        "        if name == 'Race':\n",
        "            return self.race_mappings\n",
        "        elif name == 'Sex':\n",
        "            return self.gender_mappings\n",
        "        elif name == 'Eye Color':\n",
        "            return self.eye_color_mappings\n",
        "        elif name == 'Hair Color':\n",
        "            return self.hair_color_mappings\n",
        "        else:\n",
        "            raise Exception(\"ERROR: Unrecognized name\", name)\n",
        "\n",
        "    def format_column(self, column: pd.Series) -> pd.Series:\n",
        "        # Ignore columns that are completely null\n",
        "        if column.isnull().all() == True:\n",
        "            return column\n",
        "\n",
        "        # Remove any trailing whitespace\n",
        "        column = column.str.rstrip()\n",
        "\n",
        "        mappings = self.get_mappings(column.name)\n",
        "        return column.map(mappings, na_action='ignore')\n",
        "\n",
        "    def format_df(self, df: pd.DataFrame) -> pd.DataFrame:\n",
        "        # Remove any columns not found in the dataframe\n",
        "        columns_to_fix = [col for col in INCONSISTENT_COLUMNS if col in df.columns]\n",
        "\n",
        "        df.rename({'Arrest Agency':'Arresting Agency'}, axis='columns', inplace=True)\n",
        "\n",
        "        # Fix inconsistent data formatting\n",
        "        df[columns_to_fix] = df[columns_to_fix].apply(self.format_column)\n",
        "        return df\n",
        "\n",
        "    def _convert_mapping_to_dict(self, many_to_one: Dict) -> Dict:\n",
        "        \"\"\"Convert a many-to-one dictionary to a one-to-one dictionary.\n",
        "        For example:\n",
        "        {('key_1', 'key_2'): 'val'} -> {'key_1': 'val', 'key_2': 'val'}\n",
        "        \"\"\"\n",
        "        one_to_one = self.FormatterDict()\n",
        "        for key_tuple, val in many_to_one.items():\n",
        "            # Safety check for user error\n",
        "            if type(key_tuple) != tuple:\n",
        "                raise Exception(\"ERROR: Key tuple entered incorrectly!\", key_tuple)\n",
        "\n",
        "            for key in key_tuple:\n",
        "                one_to_one[key] = val\n",
        "        return one_to_one"
      ]
    },
    {
      "cell_type": "markdown",
      "source": [
        "# Clean Data\n",
        "\n",
        "---\n",
        "\n",
        "This will automatically clean the data for the current day. If needed, this can be expanded to clean data from previous days."
      ],
      "metadata": {
        "id": "rKVrclAkXfFh"
      }
    },
    {
      "cell_type": "code",
      "source": [
        "# DATES_TO_CLEAN = os.listdir(DATA_DIR)\n",
        "DATES_TO_CLEAN = [CURRENT_DATE]\n",
        "formatter = Formatter()\n",
        "\n",
        "for date_to_clean in DATES_TO_CLEAN:\n",
        "    print(\"Cleaning date:\", date_to_clean)\n",
        "    dir_to_clean = f'{DATA_DIR}{date_to_clean}'\n",
        "    for sub_dir, dirs, files in os.walk(dir_to_clean):\n",
        "        for filename in files:\n",
        "            cur_file = f'{sub_dir}/{filename}'\n",
        "            df = pd.read_csv(cur_file)\n",
        "\n",
        "            # Ignore the index column present in some files\n",
        "            # https://stackoverflow.com/a/43983654\n",
        "            df.drop(df.columns[df.columns.str.contains('^Unnamed')], axis=1, inplace=True)\n",
        "            df = formatter.format_df(df)\n",
        "\n",
        "            # Create directory if needed\n",
        "            new_dir = f'{CLEAN_DIR}{date_to_clean}'\n",
        "            os.makedirs(new_dir, exist_ok=True)\n",
        "\n",
        "            df.to_csv(f'{new_dir}/{filename}', index=False)\n",
        "\n",
        "print(\"Finished cleaning\")"
      ],
      "metadata": {
        "colab": {
          "base_uri": "https://localhost:8080/"
        },
        "id": "3XQGhTkoXgaY",
        "outputId": "9d34b142-da32-445f-b164-e1c637b08566"
      },
      "execution_count": 12,
      "outputs": [
        {
          "output_type": "stream",
          "name": "stdout",
          "text": [
            "Cleaning date: 03-22-2022\n",
            "Finished cleaning\n"
          ]
        }
      ]
    },
    {
      "cell_type": "markdown",
      "source": [
        "# Merge Data\n",
        "\n",
        "---\n",
        "\n",
        "This will automatically merge the data for the current day. If needed, this can be expanded to merge data from previous days."
      ],
      "metadata": {
        "id": "NodOJjKQ7L_2"
      }
    },
    {
      "cell_type": "code",
      "source": [
        "# DATES_TO_MERGE = os.listdir(CLEAN_DIR)\n",
        "DATES_TO_MERGE = [CURRENT_DATE]\n",
        "\n",
        "for date_to_merge in DATES_TO_MERGE:\n",
        "    print(\"Merging:\", date_to_merge)\n",
        "    dir_to_merge = f'{CLEAN_DIR}{date_to_merge}'\n",
        "    for sub_dir, dirs, files in os.walk(dir_to_merge):\n",
        "        df_list = []\n",
        "        for filename in files:\n",
        "            cur_file = f'{sub_dir}/{filename}'\n",
        "            df = pd.read_csv(cur_file)\n",
        "\n",
        "            # Add the county to the dataframe\n",
        "            df['County'] = filename.split('_')[-1].split('.')[0]\n",
        "            df_list.append(df)\n",
        "\n",
        "        df_merged = pd.concat(df_list, axis=0)\n",
        "\n",
        "        new_dir = f'{MERGED_DIR}{date_to_merge}'\n",
        "        os.makedirs(new_dir, exist_ok=True)\n",
        "\n",
        "        df_merged.to_csv(f'{new_dir}/{date_to_merge}_Merged.csv', index=False)\n",
        "        print(\"Merged\", len(df_list), \"counties\")\n",
        "\n",
        "print(\"Finished merging\")"
      ],
      "metadata": {
        "id": "SU3Dg7Th7Msf",
        "colab": {
          "base_uri": "https://localhost:8080/"
        },
        "outputId": "8420300c-763e-4b52-a2a9-4c60257a92e2"
      },
      "execution_count": 13,
      "outputs": [
        {
          "output_type": "stream",
          "name": "stdout",
          "text": [
            "Merging: 03-22-2022\n",
            "Merged 9 counties\n",
            "Finished merging\n"
          ]
        }
      ]
    }
  ]
}