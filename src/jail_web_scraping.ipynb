{
  "nbformat": 4,
  "nbformat_minor": 0,
  "metadata": {
    "colab": {
      "name": "jail_web_scraping.ipynb",
      "provenance": []
    },
    "kernelspec": {
      "name": "python3",
      "display_name": "Python 3"
    },
    "language_info": {
      "name": "python"
    }
  },
  "cells": [
    {
      "cell_type": "code",
      "source": [
        "from typing import Union\n",
        "from enum import Enum, unique\n",
        "\n",
        "import pandas as pd\n",
        "import os\n",
        "import time\n",
        "\n",
        "import urllib\n",
        "import requests\n",
        "import ssl\n",
        "import certifi\n",
        "\n",
        "from random import randint\n",
        "\n",
        "from datetime import datetime\n",
        "from pytz import timezone\n",
        "\n",
        "import threading\n",
        "import IPython\n",
        "\n",
        "# Used for debugging; pretty print JSON strings\n",
        "import json"
      ],
      "metadata": {
        "id": "OS7Po5Gqy7tr"
      },
      "execution_count": 1,
      "outputs": []
    },
    {
      "cell_type": "code",
      "execution_count": 2,
      "metadata": {
        "colab": {
          "base_uri": "https://localhost:8080/"
        },
        "id": "lhqLGdsry29O",
        "outputId": "689ccf3a-2db0-469b-85f5-82901dd29475"
      },
      "outputs": [
        {
          "output_type": "stream",
          "name": "stdout",
          "text": [
            "Drive already mounted at /content/drive; to attempt to forcibly remount, call drive.mount(\"/content/drive\", force_remount=True).\n"
          ]
        }
      ],
      "source": [
        "from google.colab import drive\n",
        "drive.mount('/content/drive')"
      ]
    },
    {
      "cell_type": "code",
      "source": [
        "if not os.path.exists('/content/drive/MyDrive/'):\n",
        "    raise Exception(\"Error: Mount Google Drive before continuing!\")\n",
        "\n",
        "BASE_DIR = '/content/drive/MyDrive/Data Science for Social Good - Spring 2022/data/'\n",
        "\n",
        "# Define directory that contains intermediate SSL certificates\n",
        "CERT_DIR = BASE_DIR + 'certificates/'\n",
        "\n",
        "# Define directories to save data\n",
        "SCRAPE_DIR = BASE_DIR + 'scraped_files/'\n",
        "DATA_DIR = SCRAPE_DIR + 'DATA/'\n",
        "DAILY_SUMMARY_DIR = SCRAPE_DIR + 'DAILY_SUMMARY/'\n",
        "\n",
        "current_date = datetime.now(timezone('US/Eastern')).strftime(\"%m-%d-%Y\")\n",
        "\n",
        "# Create all directories on the given paths if needed\n",
        "os.makedirs(DATA_DIR + current_date, exist_ok=True)\n",
        "os.makedirs(DAILY_SUMMARY_DIR, exist_ok=True)\n",
        "print(\"Date used for scraping:\", current_date)"
      ],
      "metadata": {
        "colab": {
          "base_uri": "https://localhost:8080/"
        },
        "id": "e9MsX6May6ms",
        "outputId": "c1ec658b-522d-4d6d-e432-2b97776674f1"
      },
      "execution_count": 23,
      "outputs": [
        {
          "output_type": "stream",
          "name": "stdout",
          "text": [
            "Date used for scraping: 03-04-2022\n"
          ]
        }
      ]
    },
    {
      "cell_type": "markdown",
      "source": [
        "# Helper Functions and Classes"
      ],
      "metadata": {
        "id": "fR8wSuIfzlDk"
      }
    },
    {
      "cell_type": "code",
      "source": [
        "@unique\n",
        "class TownWithCaptcha(Enum):\n",
        "    # Return Name, rather than TownWithCaptcha.Name\n",
        "    def __str__(self):\n",
        "        return self.name\n",
        "\n",
        "    DESOTO = 'DeSoto'\n",
        "    FORREST = 'Forrest'\n",
        "    HANCOCK = 'Hancock'\n",
        "    HARRISON = 'Harrison'\n",
        "    LAMAR = 'Lamar'\n",
        "    MARION = 'Marion'\n",
        "    PERRY = 'Perry'\n",
        "    YAZOO = 'Yazoo'\n",
        "\n",
        "\n",
        "@unique\n",
        "class TownWithoutCaptcha(Enum):\n",
        "    # Return Name, rather than TownWithoutCaptcha.Name\n",
        "    def __str__(self):\n",
        "        return self.name\n",
        "\n",
        "    PEARL_RIVER = 'PearlRiver'\n",
        "    CLAY = 'Clay'\n",
        "    ADAMS = 'Adams'\n",
        "    HINDS = 'Hinds'\n",
        "    JACKSON = 'Jackson'\n",
        "    JONES = 'Jones'\n",
        "    KEMPER = 'Kemper'\n",
        "    MADISON = 'Madison'\n",
        "    TUNICA = 'Tunica'\n",
        "\n",
        "# Define a custom type to pass into functions\n",
        "Town = Union[TownWithCaptcha, TownWithoutCaptcha]"
      ],
      "metadata": {
        "id": "6a2YyDv2zpw4"
      },
      "execution_count": 19,
      "outputs": []
    },
    {
      "cell_type": "code",
      "source": [
        "jail_captcha_links = {\n",
        "    TownWithCaptcha.DESOTO: 'https://omsweb.public-safety-cloud.com/jtclientweb/Offender/DeSoto_County_MS/',\n",
        "    TownWithCaptcha.FORREST: 'https://omsweb.public-safety-cloud.com/jtclientweb/Offender/Forrest_County_MS/',\n",
        "    TownWithCaptcha.HANCOCK: 'https://omsweb.public-safety-cloud.com/jtclientweb/Offender/HANCOCK_COUNTY_MS/',\n",
        "    TownWithCaptcha.HARRISON: 'https://omsweb.public-safety-cloud.com/jtclientweb/Offender/HARRISON_COUNTY_JAIL_MS/',\n",
        "    TownWithCaptcha.LAMAR: 'https://omsweb.public-safety-cloud.com/jtclientweb/Offender/Lamar_County_MS/',\n",
        "    TownWithCaptcha.MARION: 'https://omsweb.public-safety-cloud.com/jtclientweb/Offender/Marion_County_MS/',\n",
        "    TownWithCaptcha.PERRY: 'https://omsweb.public-safety-cloud.com/jtclientweb/Offender/Perry_County_MS/',\n",
        "    TownWithCaptcha.YAZOO: 'https://omsweb.public-safety-cloud.com/jtclientweb/Offender/Yazoo_County_MS/',\n",
        "}"
      ],
      "metadata": {
        "id": "1FnFWhPZ4NQx"
      },
      "execution_count": 21,
      "outputs": []
    },
    {
      "cell_type": "code",
      "source": [
        "def read_url(request: Union[str, urllib.request.Request]) -> str:\n",
        "    NUM_SECONDS_TIMEOUT = 10\n",
        "\n",
        "    ctx = ssl.create_default_context(ssl.Purpose.CLIENT_AUTH, cafile=certifi.where())\n",
        "    response = urllib.request.urlopen(request, timeout=NUM_SECONDS_TIMEOUT, context=ctx)\n",
        "    data = response.read() \n",
        "    response.close()\n",
        "    return data\n",
        "\n",
        "\n",
        "def request_url(request: str, town: Town) -> Union[str, None]:  \n",
        "    if town in {TownWithoutCaptcha.ADAMS, TownWithoutCaptcha.MADISON}:\n",
        "        user_agent = 'Mozilla/5.0 (Windows; U; Windows NT 5.1; en-US; rv:1.9.0.7) Gecko/2009021910 Firefox/3.0.7'\n",
        "        headers = {'User-Agent':user_agent} \n",
        "        request = urllib.request.Request(request, headers=headers)\n",
        "\n",
        "    # Try the connection until success or NUM_ATTEMPTS is exceeded\n",
        "    NUM_ATTEMPTS = 4\n",
        "    for _ in range(NUM_ATTEMPTS):\n",
        "        try:\n",
        "            return read_url(request)\n",
        "        except urllib.error.URLError as str_error:\n",
        "            time.sleep(0.5)\n",
        "            print(\"Exception:\", town, str_error)\n",
        "\n",
        "    print(\"Request failed for\", town)\n",
        "    return None"
      ],
      "metadata": {
        "id": "akoAUMqFzDvo"
      },
      "execution_count": 6,
      "outputs": []
    },
    {
      "cell_type": "markdown",
      "source": [
        "# Towns with Captchas Scraper\n",
        "\n",
        "---\n",
        "\n"
      ],
      "metadata": {
        "id": "pg782r6e4lKM"
      }
    },
    {
      "cell_type": "code",
      "source": [
        "def town_with_captcha_scraper(town: TownWithCaptcha, captcha_key: str):\n",
        "    jail_url = jail_captcha_links[town]\n",
        "    jail_record_data = requests.post(\n",
        "        jail_url,\n",
        "        json={'captchaKey': captcha_key}\n",
        "    )\n",
        "    jail_record_data_json = jail_record_data.json()\n",
        "    offender_view_key = jail_record_data_json['offenderViewKey']\n",
        "    num_offenders = len(jail_record_data_json['offenders'])\n",
        "    print(town, \"Number of offenders:\", num_offenders)\n",
        "\n",
        "    def get_inmate_url(arrest_num: str):\n",
        "        def gen_random_num_with_n_digits(n: int):\n",
        "            \"\"\"Based on:\n",
        "            https://stackoverflow.com/a/2673399\n",
        "            \"\"\"\n",
        "            range_start = 10**(n-1)\n",
        "            range_end = (10**n)-1\n",
        "            return randint(range_start, range_end)\n",
        "        \n",
        "        # Apparently the offender view key is just a random number (and the length doesn't matter)?\n",
        "        # We need an offender view key to make our request\n",
        "        # We use the default length that the website uses, which is 9\n",
        "        LEN_VIEW_KEY = 9\n",
        "        random_offender_view_key = gen_random_num_with_n_digits(LEN_VIEW_KEY)\n",
        "        return f'{jail_url}{arrest_num}/offenderbucket/{random_offender_view_key}'\n",
        "\n",
        "    offender_data = []\n",
        "    cur_num_processed = 0\n",
        "    for offender in jail_record_data_json['offenders']:\n",
        "        arrest_num = offender['arrestNo']\n",
        "        inmate_url = get_inmate_url(arrest_num)\n",
        "        inmate_data = requests.post(\n",
        "            inmate_url,\n",
        "            json={'captchaKey': captcha_key}\n",
        "        )\n",
        "        inmate_data_json = inmate_data.json()\n",
        "\n",
        "        # Add basic data\n",
        "        row = {}\n",
        "        row['Arrest Number'] = arrest_num\n",
        "        row['Cases'] = inmate_data_json['cases']\n",
        "        row['Charges'] = inmate_data_json['charges']\n",
        "\n",
        "        # Add special fields\n",
        "        for field in inmate_data_json['offenderSpecialFields']:\n",
        "            field_name = field['labelText'].strip(':')\n",
        "            row[field_name] = field['offenderValue']\n",
        "\n",
        "        offender_data.append(row)\n",
        "        cur_num_processed += 1\n",
        "        if cur_num_processed % 50 == 0:\n",
        "            print(town, \"Processed\", cur_num_processed)\n",
        "\n",
        "    df = pd.DataFrame(offender_data)\n",
        "\n",
        "    file_name = f'{str(current_date)}_{town}.csv'\n",
        "    df.to_csv(f'{DATA_DIR}{current_date}/{file_name}')"
      ],
      "metadata": {
        "id": "6qjLmPVc4qsA"
      },
      "execution_count": 25,
      "outputs": []
    },
    {
      "cell_type": "markdown",
      "source": [
        "# Main Web Scraper\n",
        "\n",
        "---\n",
        "\n"
      ],
      "metadata": {
        "id": "etUaTa_B62nW"
      }
    },
    {
      "cell_type": "code",
      "source": [
        "class WebScraperThread(threading.Thread):\n",
        "    def __init__(self, thread_id: int, town: Town, captcha_key: str):\n",
        "        threading.Thread.__init__(self)\n",
        "        self.thread_id = thread_id\n",
        "        self.town = town\n",
        "        self.captcha_key = captcha_key\n",
        "\n",
        "    def run(self):\n",
        "        print(\"Starting\", self.town)\n",
        "\n",
        "        if self.town in TownWithCaptcha:\n",
        "            town_with_captcha_scraper(self.town, self.captcha_key)\n",
        "        # elif self.town == TownWithoutCaptcha.PEARL_RIVER:\n",
        "        #     pearlRiver()\n",
        "        # elif self.town == TownWithoutCaptcha.CLAY:\n",
        "        #     clay()\n",
        "        # elif self.town == TownWithoutCaptcha.ADAMS:\n",
        "        #     adams()\n",
        "        # elif self.town == TownWithoutCaptcha.HINDS:\n",
        "        #     hinds()\n",
        "        # elif self.town == TownWithoutCaptcha.JACKSON:\n",
        "        #     jackson()\n",
        "        # elif self.town == TownWithoutCaptcha.JONES:\n",
        "        #     jones()\n",
        "        # elif self.town == TownWithoutCaptcha.KEMPER:\n",
        "        #     kemper()\n",
        "        # elif self.town == TownWithoutCaptcha.MADISON:\n",
        "        #     madison()\n",
        "        # elif self.town == TownWithoutCaptcha.TUNICA:\n",
        "            # tunica()\n",
        "        else:\n",
        "            raise Exception(\"Town not found:\", self.town)\n",
        "\n",
        "        print(\"Exiting\", self.town, end='\\n\\n')"
      ],
      "metadata": {
        "id": "__7zx5ye7xQG"
      },
      "execution_count": 26,
      "outputs": []
    },
    {
      "cell_type": "code",
      "source": [
        "threads = []\n",
        "thread_id = 1\n",
        "\n",
        "for town in TownWithCaptcha:\n",
        "    is_captcha_matched = False\n",
        "    while not is_captcha_matched:\n",
        "        captcha_data = requests.get('https://omsweb.public-safety-cloud.com/jtclientweb/captcha/getnewcaptchaclient')\n",
        "        image = captcha_data.json()['captchaImage']\n",
        "\n",
        "        # # Save the image to a file\n",
        "        # import base64\n",
        "        # import matplotlib.pyplot as plt\n",
        "        # img = image.split('base64,')[-1]\n",
        "        # x = base64.decodebytes(img.encode('ascii'))\n",
        "        # with open('captcha.jpg', 'wb') as f:\n",
        "        #     f.write(x)\n",
        "\n",
        "        html = f'<img src=\"{image}\"/>'\n",
        "        IPython.display.display(IPython.display.HTML(html))\n",
        "        user_code = input()\n",
        "\n",
        "        captcha_response_data = requests.post( \n",
        "            'https://omsweb.public-safety-cloud.com/jtclientweb/Captcha/validatecaptcha',\n",
        "            json={'userCode': user_code, 'captchaKey': captcha_data.json()['captchaKey']}\n",
        "        )\n",
        "        is_captcha_matched = captcha_response_data.json()['captchaMatched']\n",
        "\n",
        "        if not is_captcha_matched:\n",
        "            print(\"Incorrect captcha\")\n",
        "    \n",
        "    thread = WebScraperThread(thread_id, town, captcha_response_data.json()['captchaKey'])\n",
        "    threads.append(thread)\n",
        "    thread_id += 1\n",
        "\n",
        "for t in threads:\n",
        "    t.start()\n",
        "\n",
        "# Wait for all threads to complete\n",
        "for t in threads:\n",
        "    t.join()\n",
        "\n",
        "print(\"Finished scraping\")"
      ],
      "metadata": {
        "id": "kgGiJkcO652e"
      },
      "execution_count": null,
      "outputs": []
    },
    {
      "cell_type": "code",
      "source": [
        ""
      ],
      "metadata": {
        "id": "ALife37Zg4of"
      },
      "execution_count": null,
      "outputs": []
    }
  ]
}