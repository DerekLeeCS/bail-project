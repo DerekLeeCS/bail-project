{
  "nbformat": 4,
  "nbformat_minor": 0,
  "metadata": {
    "colab": {
      "name": "jail_web_scraping.ipynb",
      "provenance": []
    },
    "kernelspec": {
      "name": "python3",
      "display_name": "Python 3"
    },
    "language_info": {
      "name": "python"
    }
  },
  "cells": [
    {
      "cell_type": "code",
      "source": [
        "from typing import Union\n",
        "from enum import Enum, unique\n",
        "\n",
        "import pandas as pd\n",
        "import os\n",
        "import time\n",
        "\n",
        "import urllib\n",
        "import requests\n",
        "import ssl\n",
        "import certifi\n",
        "\n",
        "from random import randint\n",
        "\n",
        "from datetime import datetime\n",
        "from pytz import timezone\n",
        "\n",
        "import threading\n",
        "import IPython\n",
        "\n",
        "# Used for debugging; pretty print JSON strings\n",
        "import json"
      ],
      "metadata": {
        "id": "OS7Po5Gqy7tr"
      },
      "execution_count": 1,
      "outputs": []
    },
    {
      "cell_type": "code",
      "execution_count": 2,
      "metadata": {
        "id": "lhqLGdsry29O",
        "colab": {
          "base_uri": "https://localhost:8080/"
        },
        "outputId": "e3965a71-c619-4d94-ba5a-62d3c61208ad"
      },
      "outputs": [
        {
          "output_type": "stream",
          "name": "stdout",
          "text": [
            "Drive already mounted at /content/drive; to attempt to forcibly remount, call drive.mount(\"/content/drive\", force_remount=True).\n"
          ]
        }
      ],
      "source": [
        "from google.colab import drive\n",
        "drive.mount('/content/drive')"
      ]
    },
    {
      "cell_type": "code",
      "source": [
        "if not os.path.exists('/content/drive/MyDrive/'):\n",
        "    raise Exception(\"Error: Mount Google Drive before continuing!\")\n",
        "\n",
        "BASE_DIR = '/content/drive/MyDrive/Data Science for Social Good - Spring 2022/data/'\n",
        "\n",
        "# Define directory that contains intermediate SSL certificates\n",
        "CERT_DIR = BASE_DIR + 'certificates/'\n",
        "\n",
        "# Define directories to save data\n",
        "SCRAPE_DIR = BASE_DIR + 'scraped_files/'\n",
        "DATA_DIR = SCRAPE_DIR + 'DATA/'\n",
        "\n",
        "current_date = datetime.now(timezone('US/Eastern')).strftime(\"%m-%d-%Y\")\n",
        "\n",
        "# Create all directories on the given paths if needed\n",
        "os.makedirs(DATA_DIR + current_date, exist_ok=True)\n",
        "print(\"Date used for scraping:\", current_date)"
      ],
      "metadata": {
        "colab": {
          "base_uri": "https://localhost:8080/"
        },
        "id": "e9MsX6May6ms",
        "outputId": "72ec8d3e-4ad0-4c1c-b34a-9944ae18b7f5"
      },
      "execution_count": 3,
      "outputs": [
        {
          "output_type": "stream",
          "name": "stdout",
          "text": [
            "Date used for scraping: 03-05-2022\n"
          ]
        }
      ]
    },
    {
      "cell_type": "markdown",
      "source": [
        "# Helper Functions and Classes"
      ],
      "metadata": {
        "id": "fR8wSuIfzlDk"
      }
    },
    {
      "cell_type": "code",
      "source": [
        "@unique\n",
        "class TownWithCaptcha(Enum):\n",
        "    DESOTO = 'DeSoto'\n",
        "    FORREST = 'Forrest'\n",
        "    HANCOCK = 'Hancock'\n",
        "    HARRISON = 'Harrison'\n",
        "    LAMAR = 'Lamar'\n",
        "    MARION = 'Marion'\n",
        "    PERRY = 'Perry'\n",
        "    YAZOO = 'Yazoo'\n",
        "\n",
        "    # Return Name, rather than TownWithCaptcha.Name\n",
        "    def __str__(self):\n",
        "        return self.name\n",
        "\n",
        "\n",
        "@unique\n",
        "class TownWithoutCaptcha(Enum):\n",
        "    PEARL_RIVER = 'PearlRiver'\n",
        "    CLAY = 'Clay'\n",
        "    ADAMS = 'Adams'\n",
        "    HINDS = 'Hinds'\n",
        "    JACKSON = 'Jackson'\n",
        "    JONES = 'Jones'\n",
        "    KEMPER = 'Kemper'\n",
        "    MADISON = 'Madison'\n",
        "    TUNICA = 'Tunica'\n",
        "\n",
        "    # Return Name, rather than TownWithoutCaptcha.Name\n",
        "    def __str__(self):\n",
        "        return self.name\n",
        "\n",
        "\n",
        "# Define a custom type to pass into functions\n",
        "Town = Union[TownWithCaptcha, TownWithoutCaptcha]\n",
        "\n",
        "def get_town_filename(town: Town) -> str:\n",
        "    return f'{str(current_date)}_{town.value}.csv'"
      ],
      "metadata": {
        "id": "6a2YyDv2zpw4"
      },
      "execution_count": 4,
      "outputs": []
    },
    {
      "cell_type": "code",
      "source": [
        "jail_captcha_links = {\n",
        "    TownWithCaptcha.DESOTO: 'https://omsweb.public-safety-cloud.com/jtclientweb/Offender/DeSoto_County_MS/',\n",
        "    TownWithCaptcha.FORREST: 'https://omsweb.public-safety-cloud.com/jtclientweb/Offender/Forrest_County_MS/',\n",
        "    TownWithCaptcha.HANCOCK: 'https://omsweb.public-safety-cloud.com/jtclientweb/Offender/HANCOCK_COUNTY_MS/',\n",
        "    TownWithCaptcha.HARRISON: 'https://omsweb.public-safety-cloud.com/jtclientweb/Offender/HARRISON_COUNTY_JAIL_MS/',\n",
        "    TownWithCaptcha.LAMAR: 'https://omsweb.public-safety-cloud.com/jtclientweb/Offender/Lamar_County_MS/',\n",
        "    TownWithCaptcha.MARION: 'https://omsweb.public-safety-cloud.com/jtclientweb/Offender/Marion_County_MS/',\n",
        "    TownWithCaptcha.PERRY: 'https://omsweb.public-safety-cloud.com/jtclientweb/Offender/Perry_County_MS/',\n",
        "    TownWithCaptcha.YAZOO: 'https://omsweb.public-safety-cloud.com/jtclientweb/Offender/Yazoo_County_MS/',\n",
        "}"
      ],
      "metadata": {
        "id": "1FnFWhPZ4NQx"
      },
      "execution_count": 5,
      "outputs": []
    },
    {
      "cell_type": "code",
      "source": [
        "def read_url(request: Union[str, urllib.request.Request]) -> str:\n",
        "    NUM_SECONDS_TIMEOUT = 10\n",
        "\n",
        "    ctx = ssl.create_default_context(ssl.Purpose.CLIENT_AUTH, cafile=certifi.where())\n",
        "    response = urllib.request.urlopen(request, timeout=NUM_SECONDS_TIMEOUT, context=ctx)\n",
        "    data = response.read()\n",
        "    response.close()\n",
        "    return data\n",
        "\n",
        "\n",
        "def request_url(request: str, town: Town) -> Union[str, None]:\n",
        "    if town in {TownWithoutCaptcha.ADAMS, TownWithoutCaptcha.MADISON}:\n",
        "        user_agent = 'Mozilla/5.0 (Windows; U; Windows NT 5.1; en-US; rv:1.9.0.7) Gecko/2009021910 Firefox/3.0.7'\n",
        "        headers = {'User-Agent': user_agent}\n",
        "        request = urllib.request.Request(request, headers=headers)\n",
        "\n",
        "    # Try the connection until success or NUM_ATTEMPTS is exceeded\n",
        "    NUM_ATTEMPTS = 4\n",
        "    for _ in range(NUM_ATTEMPTS):\n",
        "        try:\n",
        "            return read_url(request)\n",
        "        except urllib.error.URLError as str_error:\n",
        "            time.sleep(0.5)\n",
        "            print(\"Exception:\", town, str_error)\n",
        "\n",
        "    print(\"Request failed for\", town)\n",
        "    return None"
      ],
      "metadata": {
        "id": "akoAUMqFzDvo"
      },
      "execution_count": 6,
      "outputs": []
    },
    {
      "cell_type": "markdown",
      "source": [
        "# Towns with Captchas Scraper\n",
        "\n",
        "---\n",
        "\n"
      ],
      "metadata": {
        "id": "pg782r6e4lKM"
      }
    },
    {
      "cell_type": "code",
      "source": [
        "def town_with_captcha_scraper(town: TownWithCaptcha, captcha_key: str):\n",
        "    jail_url = jail_captcha_links[town]\n",
        "    jail_record_data = requests.post(\n",
        "        jail_url,\n",
        "        json={'captchaKey': captcha_key}\n",
        "    )\n",
        "    jail_record_data_json = jail_record_data.json()\n",
        "    offender_view_key = jail_record_data_json['offenderViewKey']\n",
        "    num_offenders = len(jail_record_data_json['offenders'])\n",
        "    print(town, \"Number of offenders:\", num_offenders)\n",
        "\n",
        "    def get_inmate_url(arrest_num: str):\n",
        "        def gen_random_num_with_n_digits(n: int):\n",
        "            \"\"\"Based on:\n",
        "            https://stackoverflow.com/a/2673399\n",
        "            \"\"\"\n",
        "            range_start = 10 ** (n - 1)\n",
        "            range_end = (10 ** n) - 1\n",
        "            return randint(range_start, range_end)\n",
        "\n",
        "        # Apparently the offender view key is just a random number (and the length doesn't matter)?\n",
        "        # We need an offender view key to make our request\n",
        "        # We use the default length that the website uses, which is 9\n",
        "        LEN_VIEW_KEY = 9\n",
        "        random_offender_view_key = gen_random_num_with_n_digits(LEN_VIEW_KEY)\n",
        "        return f'{jail_url}{arrest_num}/offenderbucket/{random_offender_view_key}'\n",
        "\n",
        "    offender_data = []\n",
        "    cur_num_processed = 0\n",
        "    for offender in jail_record_data_json['offenders']:\n",
        "        arrest_num = offender['arrestNo']\n",
        "        inmate_url = get_inmate_url(arrest_num)\n",
        "        inmate_data = requests.post(\n",
        "            inmate_url,\n",
        "            json={'captchaKey': captcha_key}\n",
        "        )\n",
        "        inmate_data_json = inmate_data.json()\n",
        "\n",
        "        # Add basic data\n",
        "        row = {}\n",
        "        row['Arrest Number'] = arrest_num\n",
        "        row['Cases'] = inmate_data_json['cases']\n",
        "        row['Charges'] = inmate_data_json['charges']\n",
        "\n",
        "        # Add special fields\n",
        "        for field in inmate_data_json['offenderSpecialFields']:\n",
        "            field_name = field['labelText'].strip(':')\n",
        "            row[field_name] = field['offenderValue']\n",
        "\n",
        "        offender_data.append(row)\n",
        "        cur_num_processed += 1\n",
        "        if cur_num_processed % 50 == 0:\n",
        "            print(town, \"Processed\", cur_num_processed)\n",
        "\n",
        "    df = pd.DataFrame(offender_data)\n",
        "\n",
        "    filename = get_town_filename(town)\n",
        "    df.to_csv(f'{DATA_DIR}{current_date}/{filename}')"
      ],
      "metadata": {
        "id": "6qjLmPVc4qsA"
      },
      "execution_count": 7,
      "outputs": []
    },
    {
      "cell_type": "markdown",
      "source": [
        "# Main Web Scraper\n",
        "\n",
        "---\n",
        "\n"
      ],
      "metadata": {
        "id": "etUaTa_B62nW"
      }
    },
    {
      "cell_type": "code",
      "source": [
        "class WebScraperThread(threading.Thread):\n",
        "    def __init__(self, thread_id: int, town: Town, captcha_key: str):\n",
        "        threading.Thread.__init__(self)\n",
        "        self.thread_id = thread_id\n",
        "        self.town = town\n",
        "        self.captcha_key = captcha_key\n",
        "\n",
        "    def run(self):\n",
        "        print(\"Starting\", self.town)\n",
        "\n",
        "        if self.town in TownWithCaptcha:\n",
        "            town_with_captcha_scraper(self.town, self.captcha_key)\n",
        "        # elif self.town == TownWithoutCaptcha.PEARL_RIVER:\n",
        "        #     pearl_river()\n",
        "        # elif self.town == TownWithoutCaptcha.CLAY:\n",
        "        #     clay()\n",
        "        # elif self.town == TownWithoutCaptcha.ADAMS:\n",
        "        #     adams()\n",
        "        # elif self.town == TownWithoutCaptcha.HINDS:\n",
        "        #     hinds()\n",
        "        # elif self.town == TownWithoutCaptcha.JACKSON:\n",
        "        #     jackson()\n",
        "        # elif self.town == TownWithoutCaptcha.JONES:\n",
        "        #     jones()\n",
        "        # elif self.town == TownWithoutCaptcha.KEMPER:\n",
        "        #     kemper()\n",
        "        # elif self.town == TownWithoutCaptcha.MADISON:\n",
        "        #     madison()\n",
        "        # elif self.town == TownWithoutCaptcha.TUNICA:\n",
        "        #     tunica()\n",
        "        else:\n",
        "            raise Exception(\"Town not found:\", self.town)\n",
        "\n",
        "        print(\"Exiting\", self.town, end='\\n\\n')"
      ],
      "metadata": {
        "id": "__7zx5ye7xQG"
      },
      "execution_count": 8,
      "outputs": []
    },
    {
      "cell_type": "code",
      "source": [
        "threads = []\n",
        "thread_id = 1\n",
        "\n",
        "for town in TownWithCaptcha:\n",
        "    is_captcha_matched = False\n",
        "    while not is_captcha_matched:\n",
        "        captcha_data = requests.get('https://omsweb.public-safety-cloud.com/jtclientweb/captcha/getnewcaptchaclient')\n",
        "        image = captcha_data.json()['captchaImage']\n",
        "\n",
        "        # # Save the image to a file\n",
        "        # import base64\n",
        "        # import matplotlib.pyplot as plt\n",
        "        # img = image.split('base64,')[-1]\n",
        "        # x = base64.decodebytes(img.encode('ascii'))\n",
        "        # with open('captcha.jpg', 'wb') as f:\n",
        "        #     f.write(x)\n",
        "\n",
        "        html = f'<img src=\"{image}\"/>'\n",
        "        IPython.display.display(IPython.display.HTML(html))\n",
        "        user_code = input()\n",
        "\n",
        "        captcha_response_data = requests.post(\n",
        "            'https://omsweb.public-safety-cloud.com/jtclientweb/Captcha/validatecaptcha',\n",
        "            json={'userCode': user_code, 'captchaKey': captcha_data.json()['captchaKey']}\n",
        "        )\n",
        "        is_captcha_matched = captcha_response_data.json()['captchaMatched']\n",
        "\n",
        "        if not is_captcha_matched:\n",
        "            print(\"Incorrect captcha\")\n",
        "\n",
        "    thread = WebScraperThread(thread_id, town, captcha_response_data.json()['captchaKey'])\n",
        "    threads.append(thread)\n",
        "    thread_id += 1\n",
        "\n",
        "for t in threads:\n",
        "    t.start()\n",
        "\n",
        "# Wait for all threads to complete\n",
        "for t in threads:\n",
        "    t.join()\n",
        "\n",
        "print(\"Finished scraping\")"
      ],
      "metadata": {
        "id": "kgGiJkcO652e",
        "colab": {
          "base_uri": "https://localhost:8080/",
          "height": 1000
        },
        "outputId": "9b9ad31a-dcdd-4496-c1ea-c3c23e430170"
      },
      "execution_count": 9,
      "outputs": [
        {
          "output_type": "display_data",
          "data": {
            "text/html": [
              "<img src=\"data:image/gif;base64,iVBORw0KGgoAAAANSUhEUgAAAGQAAAAkCAYAAAB/up84AAAAAXNSR0IArs4c6QAAAARnQU1BAACxjwv8YQUAAAAJcEhZcwAADsMAAA7DAcdvqGQAAAMiSURBVGhD7ZlNSxtBGMcLhV77HQpei/0QBnpp6UEobamX9BIPloaAl7JicygKepFuyWG9CIJgItaD4ElYRD9B8NM8nenubObl2d2Z3Zl9afbwI8R5NpD55fnPi0/m4SN0lOP5+0ECNm5CJ6QEvIhOSI24EMHohGjiUgJPJySHqkQwGiHk99Pt1oJ9nzJ0QkqCfZ8ydJFFqDqWslhqIU0SwVhKIU0UwVgaIU2WwFOrkNDrw7sXvXR6PoQ5tWNf/Vyetohg1N8hUx82lYnuw2SK1IZTGMc1m16IjC9omwhGMyILkYJPeAiTXnZXtFECT2PWECyS5ImnNZgMWUIbRTC0hNwfDeHrp48G7ME18jnZRL9+UYoHs3icypC75n8SwTDqEEXM7h9h/HqXGyOMj+6E8Vyw9aQ/hbnvRa9xXTtE3ML5xiv4vraacLB/i9SJmEXW1TGMuQmXhVBkKb9OxPE88N2UZ1nCBfxceQMfVt4u+HKB1BUkGAoiBDYO4QF7Jsa6kPnJniAErclh1leF0OgqL4Lg/4glDCCYkR/AziCR8m0ne+emxeUhHAiTfgbBmtgpQcDVSzRSCL+9TeAiqzh8Z8hCovf4c7qQmBohHUAlcVJqFWK8jsTo7LqMSbrDlgBNBCFDuMFqYhyvIUV2W4R4EU+LLvQZHWoS8rC/HstYh/NLvIZhVYggY+sY7rkxbehOK7kysRVdyCLOeD1JrmdccDPi1o/RGVrDU04IRlER/6ACpC6g3SJJKRxdVXZI6k7LeWTdwekW9zdCsXWDHgzxOyxr0VVDZAkdwsjY+tqJLKVzhnB6JT2bSXRKT78wtBRddS3qytY3fS2xtoYop3jt6NK7wVW7hGAqpTYhBGGnVYEQ8+jC7q4iRDFIdwgYxFedQgg0vp59fpmA1VgUgowbR5djahTCi6hOCKF4dFWAayFJLC0iCRORdcloJES9hscOfmp0NUaKYyGLA+AqKiIas7Dtzf9/iCRGia4I05tf67juEHL2SBeRL4NiFlltx6GQbBH5VyaMJRHi7uoEE4HV6bJcHWIR2yIYnZAS2BQR8Qh/AcMi4HDpKOSFAAAAAElFTkSuQmCC\"/>"
            ],
            "text/plain": [
              "<IPython.core.display.HTML object>"
            ]
          },
          "metadata": {}
        },
        {
          "name": "stdout",
          "output_type": "stream",
          "text": [
            "RXf3\n"
          ]
        },
        {
          "output_type": "display_data",
          "data": {
            "text/html": [
              "<img src=\"data:image/gif;base64,iVBORw0KGgoAAAANSUhEUgAAAGQAAAAkCAYAAAB/up84AAAAAXNSR0IArs4c6QAAAARnQU1BAACxjwv8YQUAAAAJcEhZcwAADsMAAA7DAcdvqGQAAANgSURBVGhD7ZkxaxsxFIALJV28+Q906lKcoUsH4xa8FErnBAwhc8BTwEscQibDDQ0mcRM6GYJNRqeEmAY7a7YmHUogYwpdPOcHvFr2KSfp3t1JOul8Z274hpye7PA+3ns6+cXTzQRy0kMuJGVkVsjrN2/R51knk0KIDAq2nmUyJ2SZZRAyKwRbWwYyJWTZZRB4ISctWC1+kmbvhNlrGSpDVsirz9/Q52kHrxBBTKnYgmt37WF3i1/7eAoP7F4LqMogECFZlBLQskawxyadEUIQpdR2/zB7Fek60PnwJRAdGYREhAy/w+FaCZprqy47cIfFKaAl5GlwCrWwdR1EMZV6qmX8PVpnRPCc9fE9MugJiVzXYQzDSvzKIFgX4qsMEf1KMVMhRuaIJ8SEDJtC7vZLcHj023vW3/FJ0a0SOSFCwsUZYua05Rdyj8aF48m4havyCjQKL2ccNG99sXpcwtn+pe+52MISE8LKKBW3oDsQ9+oyF0JldCpOLCFURKNQh19InHG4NrYO4yESI4GUEIzS5gjZF4fxswxdIbyMhERQOCG2ZwjXssT5YqZKOBmzU5aikOO6J6TchkcsxibMHOHmiyJaM8S0FJ8MVSGDNhwUVp6FJFoZLmTQx60OgqaQCVxveusE3ZdDVgZ77JUXYmt4qzAd9LN2pT87KMaE6MwUVob4HiItxK2OuZAqXBk7ZMhDqyNOq6IstEI8GeRvdSH32w783PCqo1GuMnLm9I7xvcZwZweR0Xr3HgXdF4CeEN/VifoM4WUQVIVM42tt+MG0K2+Yn0OPEWOyjWEJjwL7nCBwISG3vaIMguqLoV8GQU3IP6cOne2vwYmfnrroc51WhiU2DH4/mSl6w50Xovh7SJw2FUvIRQ/6JDZMCDdbglsXltww6L6wy8UZyNu8DAEtyw7BMqYgt703F0IMgcqYxvSdbkhr4tsWltwwuO8UQe6uRHQHfGJCAmVE/B4SRt8ZcUdeLLFRcP+LDJE3vXMM32WZJVCGJlhio1jEcVgH60LiyMASGwZ3f8XOkEVcpWiSmBBsjYIlNwzfZzAnKjpHHptV91nCl4wxsSpEtjKwpBOw2GD4K5QZG+dIXLqxJoTKkBGS42FFSC5DH+NCchnxsCYEW8uJxupQz1EnF5IqJvAf+Ta3Hbr4e4YAAAAASUVORK5CYII=\"/>"
            ],
            "text/plain": [
              "<IPython.core.display.HTML object>"
            ]
          },
          "metadata": {}
        },
        {
          "name": "stdout",
          "output_type": "stream",
          "text": [
            "BL62\n"
          ]
        },
        {
          "output_type": "display_data",
          "data": {
            "text/html": [
              "<img src=\"data:image/gif;base64,iVBORw0KGgoAAAANSUhEUgAAAGQAAAAkCAYAAAB/up84AAAAAXNSR0IArs4c6QAAAARnQU1BAACxjwv8YQUAAAAJcEhZcwAADsMAAA7DAcdvqGQAAAN0SURBVGhD7Zg9TxtBEIbTpSTKH0iKFCQlVUiFU1ATBSUSjQuLFhQJyW1AtlxGKQiiiOMCIbBoIhlhgRCNkRskTqKmMaUlfoIntzZ3tzs7Z+/eru/DueJp9sNnvY9m5/aeOf0B5KSHXEjKyIVY5svnBQlqXRi5EAOo8CmovWHkQjSgwvb49uG5MtRve+RCQtANWQfqeR7/nRAqIFOo50RlJoRQIZlCPScOUiuECskUfO7zUP8hCWITQgVkA/wcKmwM3pMmjIRQAdmAehYFFTYFtTetSEKogGyAnxMFKmwMtS9LGAnBe41oXcDu610fKmwK8rcyTGqaOhU2htrn9LtQKizCy4/vRQol2Llj8w+ws87N++PpJBEhVNgYvlqaLfp3ApCUQg3qaE27UUq9DEYsQqjAMcH6R2itBDLUhLic1wIhLqVzcZ4JWWo8CGMqdH6uwfcX79TY6JC/oYOaEOcQNucX4KtAFU6otQTh4VNEFIKPpvVjaAtzZtUhiVk+gI4/34Hfc29D5vTQqpCTcjQheshCXn16Q6wj4KuEP57YeKUrr9fh9gB+jA0dSZnbhjNhXg0tIVd7xdiFMBnKQnCVPEmoVxalI0ybiUJc/m4H84wIR1hmhKhKGTZvoUpYw5ebvDYqQvo9aC7zVbIGzVu8ZjypF6JfJfJrcJRmLqEkZABnG9wahmaVhAs5rXLhF2HfSU4Ia+o6UtgRJVYJvU4LRSHjm/9kSCF88NVTNtaD/dUiVMvZEOLcHcOSVyXC25YBikKkPqLZ3GUh/Cvu6iFcUeOxCjmClludbC5KlRg3c4+khAivtuXr8DkbQpwb+MNVwWh8shAlKexV10Yz90hGCDuagtA393rcnP0ecrnFBb9yA93hOBZyAZfcHi0hpncPnmR6yDVU/cCnL6T768gPPrRCfFEj6Cp5erPiKqJesfzdKqoQs7eseIU4/XtoDoMPjiX+GMPV4YGF8HePUc9wBdmsDoaSEOv3kHiPLA++Uny27sm1DKlKuE8mTEi7UbNbHQwVIXiNjZv6uKY+LSFRwFXC3z2sXAQxCkKES6G1b1nChVAMPU1CGFjKNJF6gxA4OqoMPsPLQlz4KvGPLUFUwOjimAxxCJFEjMNAhAcphCFWg4t7fPlj/IUxYeKskjgIFZIVPCGzIiXzQhi5kJQxO0IG8A9BVwM1qG5e/wAAAABJRU5ErkJggg==\"/>"
            ],
            "text/plain": [
              "<IPython.core.display.HTML object>"
            ]
          },
          "metadata": {}
        },
        {
          "name": "stdout",
          "output_type": "stream",
          "text": [
            "dJyD\n"
          ]
        },
        {
          "output_type": "display_data",
          "data": {
            "text/html": [
              "<img src=\"data:image/gif;base64,iVBORw0KGgoAAAANSUhEUgAAAGQAAAAkCAYAAAB/up84AAAAAXNSR0IArs4c6QAAAARnQU1BAACxjwv8YQUAAAAJcEhZcwAADsMAAA7DAcdvqGQAAAM/SURBVGhD7ZhNSxtBGMd77MUeeluhn8ObJ6EpPefioYeYm4VKBCl6KAQUNRcj4qnGEDSCULAQL0Lx5a79AvkuT3eyeezs7H92Z5PZl4Q5/EB3/zPg8/OZZ3ffDJ8H5DBn78sCvG4LJyQlQkiWUpyQFNiQ8fHt+xDqfSfEEJYxiRBVgoyadUIMSCsDFZ5BeRknxAATGaj4DMrrcEISiOsOVHxGzZrihMSgykCFZ9S1k+KExMAykAABWjMt+Qrpr9KPymIsR+0uXpsjotg6GShvk4I65JC6Fa9QEd8/fH1FLTrLEKC1WVKQkC7d1MJCun2UywZZhkqRMgRaIVf1BVr03kXw6vsgv0/rXjRfaZ6DrCB/IWoXMDoh4me0T9YkdggSs36GsywGS5PJRwgSwKC83B2qKL2gSxqsfaa9TxJru/RX3LvbpdPxtdP2JVgbJfnIut2givLf73lL1LoFWR8hUC+MyU4IKj6D8owsg6+ZCQl43FGESDJCkhIwE1KvRo4kz6vSFcjnLQQVnkF5HaqMtISFNOhiRwiQuseuEP8IQp2yskFPSj4PIaj4TLP2zZytE3rx95tWhiAkxOeC/55+Y/S73SOLZ8JZNSRkJEWZF1kJQcVnjv3iHv+8DuUfDsLF7/2S97um31uBEJZhV0iDHkHGhHRCfJ6aSxEpsgBbQlDhGTk3/HNCPUWGIF6IoEM9SUj4XnoiMwRkTEgtZPh8Tq0V/ZCfRggqPoP30ZMsxM5RxRQoRBB97+Ahn1YIKj6D15qRJIRlzImQ8XUw5FuqkLtNOhp/JrHdBXHECbEtQ1C8EAEY8gJZyP22B4vPBEfWKt3L+1rARIicn5ZyCPHRDXlUfCYyQ2qbo8dPtP+k6IRkIUMQEpLnU1aUYMijwjPBl91lurkbr5GOsSy6Q4CEsAy7QsCnkzGv7yIpmEoIKj6jZl/ay/87gtk+jORsEScE5ctCKiGo8DI85JOfsrJHFTILMgSJQsRjrPyeIQtQszzkyyaEZcy0EDSsdR8UZcS6MgmZJRmC5CNrRlGFyI+9ZWauhcjd4YQUSod6UneITlG/BpeVORMSiOBhDjnogHXlYW6PrFnFCSkZTkipGNA/nOymmtwqzcEAAAAASUVORK5CYII=\"/>"
            ],
            "text/plain": [
              "<IPython.core.display.HTML object>"
            ]
          },
          "metadata": {}
        },
        {
          "name": "stdout",
          "output_type": "stream",
          "text": [
            "NJTr\n"
          ]
        },
        {
          "output_type": "display_data",
          "data": {
            "text/html": [
              "<img src=\"data:image/gif;base64,iVBORw0KGgoAAAANSUhEUgAAAGQAAAAkCAYAAAB/up84AAAAAXNSR0IArs4c6QAAAARnQU1BAACxjwv8YQUAAAAJcEhZcwAADsMAAA7DAcdvqGQAAALOSURBVGhD7ZgxS+RAFMctbO6DWNhccWC/Xn2tTUBw7wtEsDosbu+O+QKKLIKIFsdCEOy02dPOLRcrQQtBROzsttxnNnGSN29e1pidJLO5KX7NZGZ2+f94bzJZGPXH4LAHJ8QynBDLcEIswwmxDCfEMpwQy1j40lqBXPhX7AYOs0QVcifameFf+mg85FdX38RhjrhlBT1YR6Gr1fAAxx561mrDcZBu0FQWl39rcPNMk0PI9ApqCpwACrfONLmEjLpiboXsffoWQce5wDF0flUUqpB18aA8txUpgwucwq2vg0aeIVzgFG6dDbwrZB7esrjAKXKurBoM3qtueCEMtrQpLmzK0tf9qayJl3LFBOew19qAnwoHcM3NJeQ71GuEC5zCrRv172F7VRdB55Up5tpvgBAucAq3TucFDj1VyPaUdluGmEfRsVnIFZx9X4HdBAE34TgXOIbfKw8fE4IxJcZeIUciksAFTmHXF6K4EAkV81E51gnhAqfsbvXgiVk7O7MLkeQS0z1A4XfgIrwa1C6ECxzzdyd9U3vaab+1rjYMTvW9ZsecEEmWGBx8EP3GM1x4HQj8gkK0b1VeD+7IxDxQAZNL5WBrEnoML0QdN4d5IRJOTBS6dw6Pcp726ptTiCJCQ8Alsyg/9CDnmTchGCoGPyv+2lsaqpBygs+iCiGT1hQHTsVMKH6GlIbasso7wDmqEDKEIAk8lCKebRcyhps/SAh3gJ/2YHBExoxAhKyewKHxj6K6EPzcSiHyDpISXwjj52FLM1E1wRDW3j6TpFVQhZC0Zc2PkBC1SjBmXnn7myh4bwi30TgV8g/6ZJ0JlIPbHyrPZhLy47OoDfyHinArTpLgMyskEWUY5UKohv7fCkm+7OK2hNpYWdUhwVWStC1FVEp8ccymkpZVFbhSEjbv2bmmUashJGxfyRi+ML5Do4Q0ASfEMpwQy3BCrGIMr3+J2VwYSqONAAAAAElFTkSuQmCC\"/>"
            ],
            "text/plain": [
              "<IPython.core.display.HTML object>"
            ]
          },
          "metadata": {}
        },
        {
          "name": "stdout",
          "output_type": "stream",
          "text": [
            "PeJd\n"
          ]
        },
        {
          "output_type": "display_data",
          "data": {
            "text/html": [
              "<img src=\"data:image/gif;base64,iVBORw0KGgoAAAANSUhEUgAAAGQAAAAkCAYAAAB/up84AAAAAXNSR0IArs4c6QAAAARnQU1BAACxjwv8YQUAAAAJcEhZcwAADsMAAA7DAcdvqGQAAAPjSURBVGhD7ZgxSyNBFMeFww9wzcF9lIMr8gks7q47OIKVNtqJFiZXyUkKIYVi4CxERGKRIiInsTcEwdpK4Ro/wbXv9m327c7O/Gdmk2ySNWvxa5y/m/B+efNmZ+nf3zt6oziUTsjP95/g34tCKYUUWcqbkDlw8u1XCnWtVEJExjyE6BJU1FwphaC1aYCKL6A88yYkZ1DxBZTXKY0QkTENIaj4Asq7KJCQDnWqH+j7Z8zhFWeO6BCsJVSprzzzqVWJ1/KWgYovoHxWCtch/Zq7yCFXVS0jwhBDiXkIQcUXUH4cCrhl6V1Qoc69mdPF7bQ6RmbIUSxjHCGo+ALKT0ohZ4i61YTUjszc/S7tqBnUSUzQTaPKQMUXUD5PYiEv53Vq/dhwUKfBg/zjJfVApn1+Ez94IjIV25w55rbFmUomIaj4AspPC6NDTDEH9KhlEiIxB5dgbTL0LQkXO50xOikQKzKQEFR8Qc/OCnPLejihtipk+4Re9IzC48EG9W7x2kTog7u6S0/qOndR8Ot3dRJvfboMVHxBMvOkuEI8w52LzYPc3knp7QoJYJLPy8bjaZM+ftlz0KRWvLV3aQtkVk5vU89UKbAQc7gnJymWFXWD3knRtsXFFhm6EPUzxsUU85t6IDckErPfBWtpCi3EGO6ybbGEeF4knaQWnVFlGM+OGKx9pdVKk57BmpOHC1pRhWxeOGbtHfX292jrD15TKbYQy0mqX0u2L12Ciggxnyuc0fFyIGR5nbp9tO6gnELAO0kwF1DxBcmJDJeQ58Y6rb4LhDBrZzBjpaxCZEtCxRdQJ/m745q6lUgGs1yjAcxZKK4Q9YUxX1DxBT2b7qQMb+ftWiIjot64xllEWYSg4gthsdE1CqMcAESGS8hgLZgbDU3KKMN9kYWg4gvDTLIl2W91k4y3O/pNqofF17atgOM2yCOKKeSGBtuuqxU7qPgCyodbkv62riEZnxAe5lL41GBnsg73kYWoL4x2TCFhkRUhvrssTwepoOILKD8OIsMuhI+66gCPjr4iJOsReHZCzAtG2ymKc6OesKYhQcXXHTzM9eEdvhwqXZJpuM9SCMPH2USKOSd4Pbfr9hxxC+GZATqAZ0qqSzIcgUcSckutTdfVSsLSRjDc5gX6QpMgMqxC9MI78A93LrIixHeX5ekgIewQVKxZoH+ZSXF3x3BrshXaGO7B9/MdgfULRtspinNZTliMdct6jXi7w1nk8YY7H2cTKeac4HXXdbvOwggRGTYh3B2+YZ3bEVgha2cICycErcWF9hV40uuUHFhwIeabeIguxjfsM8yTvChFh7wmFmqov37u6D/BVLP+B6CwUwAAAABJRU5ErkJggg==\"/>"
            ],
            "text/plain": [
              "<IPython.core.display.HTML object>"
            ]
          },
          "metadata": {}
        },
        {
          "name": "stdout",
          "output_type": "stream",
          "text": [
            "UWAU\n"
          ]
        },
        {
          "output_type": "display_data",
          "data": {
            "text/html": [
              "<img src=\"data:image/gif;base64,iVBORw0KGgoAAAANSUhEUgAAAGQAAAAkCAYAAAB/up84AAAAAXNSR0IArs4c6QAAAARnQU1BAACxjwv8YQUAAAAJcEhZcwAADsMAAA7DAcdvqGQAAANUSURBVGhD7Zm/T9tAFIC7pAtrVVWdWv6B7rWE0pWp6kgGQEyZ0gG2CpEBDzBkigQRUQUUWGBBBAUURWFjitq/6PXO+Ox3z3f22bGTC/HwDbk7g3If75d58/ffGErsoRRiGaUQyyiFWIb1Qr5/++2h2nuNWCtEiCiFWMAiihBYJQSLWEQZHGuELLoIwcyFYBGLLoNTrJDLdfjivNWCReD1xqXiZ9lM/wpWKr9gKeAQmn3FOQOmEyFEDBbB8c4MduGHU5k7Id0NX4JzBX1v7Q42hZiNO6h+rEeeiSOlkHtorb4D53NIzb1XnKN0oOFfdkSE4tzcCOkeB1GxsvcUrPf3Dr01LqM4IadbkgiJ1SYMVM8EdCQRnHPluTE8tr4WI2T0B87WtuFIhXsbnBu6+9AbkWeVPEHT8SOBsdlFe74oISSNFDMhD02oSZd+AjvLspSdU3QeQUW8pK11Sch5axcexWeWug7yFEJEXN/QM7dwjfaP1kyFoNREhaC9AoSwNFVXRACXhKSohKhlUCEsTdWQkDy5aRtf9HNnP50QUshxyqKy0kjJXtSxkOUtuEB7VASuIREhvOAXIUSSsQ1nnZH6HGLophBCLn3mQgZu1ZdRhdZDuB6Vwdd1Qvz13IXQNNSGofIchT9nKgR1WJygy+JEZZlKySTkoh6mKqd+4q2pRQioEELOQsL044OKdhLPnbaxEJq2wjoiC+HrQkiSlHRCNJ2WXoRguhHyknpCTNJVduRuK0o4JOYvxEdECBbB0be+OiGM3GsITVdFC4ki5hAPlMpMoiR7UfdbXy7CixRSS2RihPC9goVEW90iiZlPGAUKYUidVlYhZA7hsFmk0eqFn1Mx2wjRRYcgKUomE8IICnxKIR8+vS+M3k8DIXGTu4dpZ4ZAr1KWKsfQVZ1hTCRE9YVtJ1WXpRCTJaKkyIiRIdBJSY4QlpZUXzoP5N/Vg4OaiCI5paUmcslxf+0jElHmcwhHFkEHRD2ZhQQDoI/0dle0wWRSD0j4f4iWHIo8jRJ9Yc8oxDA9xaGSkhwhcW95OToZFiBL0UXJZBEyCUIIlmJW1FVSYou4RZB3WtFImZ0QTjYhr4GErmq6s0rI4gqZE0ohllEKsYxSiGWUQiyjFGIVY/gPQ2ixr6kTUPAAAAAASUVORK5CYII=\"/>"
            ],
            "text/plain": [
              "<IPython.core.display.HTML object>"
            ]
          },
          "metadata": {}
        },
        {
          "name": "stdout",
          "output_type": "stream",
          "text": [
            "3EG9\n"
          ]
        },
        {
          "output_type": "display_data",
          "data": {
            "text/html": [
              "<img src=\"data:image/gif;base64,iVBORw0KGgoAAAANSUhEUgAAAGQAAAAkCAYAAAB/up84AAAAAXNSR0IArs4c6QAAAARnQU1BAACxjwv8YQUAAAAJcEhZcwAADsMAAA7DAcdvqGQAAAQJSURBVGhD7ZoxSxxBFMftciljJ4IhKS5VAvYpRSTRxlQKVjYGBPVAAhZX2KXTOw02dgeCIJyeBGxtbNT7GFv4ISbzbvftvnn7ZnZXd3WDU/wI3LxbyP93783MJmPBw7Xy1AcvpGZ4ITXDC6kZXkjN8EIq5sfnnwZSDcULqQAugSLVU7yQkpDCR6R6G15IxMrXNfFzG1LwyPSXbwbS9214IRqQgUjriBQ+8hQJFC8kwiZFCh8pSwLFCyGgECl8hEsoSwTihWho4FyKJACQnlMGr1YIlcBBKc8lgfKqhEjhIzR4FAJIz6mSsffvPigXU+Orqi988b9gsCyGj1AJlPZW58WkxEKmNv4YC/2Nj4aYhc6Zsf54rtTh/G/1aVJmewA1fbUtrCHNyWN1QZ55d9CN16TgkfbE24hldRN9l4roTTTCdS0E1l5CilUIwKW0zs31p3DRcoc8YnBs1AChMBMpfCSs6SRhMyGcmy1dFwkBsqTc722q6Tcrdma66j6jdqefPM8pJDhfNYSINY/G7ILmZFcdDtN1XNziwdXocyl8hD+jiJBg+EvtEyFAlpRg2FVLDRZ0Y1MdCX+f4KGndqLapb1Bav0FhZijBmi2+um64YlajNal8BHoJpSVJkOIltA7OE1qmRDgMVKkwIOHgTqaMbuCUkhIeftIBAl7JISNLSl4xHjOaF+SOywkQ4je/PdjIXacQjTSSOLBQ41NBpB7D6nqtMVHkhQ+EovjnQRi50/UHf3MwCXkVP393sglBHBLCX/9hpTGrrqM1kGG3DUJViGGjLm2uiVrpaJHjRQ+EobddXYSjD77uALsQkabuP6sqBCrFGk/We+poL8b/il9hxALkahShBQ+QkcPhs07KTltZY0rgAtJk1cIkCVFPE2RTnHBOuRMdeequX9IwSN8c09+7XASi7qBHYHjsZU5roDyOgTJknK5XooQ/eGwrRbG6d4xq7rOX58dKXzEqOWbOwasJST7hXxMzh5XgHtTBylFhQAuIfR4G1NkZNE95LYzGwsZrRUYXVL4iFQfkr69w0i6aJmjKN1Jff094UKZwi0k7ymrKHlOXRzLpl5sdEnhI1K9BA+7CRs5H0Wsk0Z10t0lRYYQ4x5SEtEmXnR0WYRoHKNLCh4xnlGI9Pur9CiSO8mskcgQUjZw0opfmRQbXXYhGtfoKkeCCT1Jie+2NLSTbDVpnlMICGBdAN1ChWiyb+rixS89uqq+k8Rh20YRGVv5xpVG7xGJjJBers4qClwM5XdYeUdXLCQOnIthowsp881vQjKS7KMoT02EIIJTnpjwlm6/iecbXbX7F0MYSfGx10KemufF/QYXSXWJIMX/J4cnIby7ijDFCN1BIePLC6kZXkituFb/AA0nGGDmYXlIAAAAAElFTkSuQmCC\"/>"
            ],
            "text/plain": [
              "<IPython.core.display.HTML object>"
            ]
          },
          "metadata": {}
        },
        {
          "output_type": "stream",
          "name": "stdout",
          "text": [
            "RWFX\n",
            "StartingStartingStarting DESOTO\n",
            "  FORREST\n",
            "HANCOCK\n",
            "Starting HARRISON\n",
            "Starting LAMAR\n",
            "Starting MARION\n",
            "Starting PERRY\n",
            "Starting YAZOO\n",
            "LAMAR Number of offenders: 94\n",
            "PERRY Number of offenders: 27\n",
            "HANCOCK Number of offenders: 233\n",
            "YAZOO Number of offenders: 262\n",
            "FORREST Number of offenders: 289\n",
            "DESOTO Number of offenders: 465\n",
            "MARION Number of offenders: 255\n",
            "HARRISON Number of offenders: 650\n",
            "Exiting PERRY\n",
            "\n",
            "HANCOCK Processed 50\n",
            "FORREST Processed 50\n",
            "DESOTO Processed 50\n",
            "HARRISON Processed 50\n",
            "MARION Processed 50\n",
            "YAZOO Processed 50\n",
            "LAMAR Processed 50\n",
            "HANCOCK Processed 100\n",
            "FORREST Processed 100\n",
            "HARRISON Processed 100\n",
            "DESOTO Processed 100\n",
            "MARION Processed 100\n",
            "YAZOO Processed 100\n",
            "Exiting LAMAR\n",
            "\n",
            "HANCOCK Processed 150\n",
            "HARRISON Processed 150\n",
            "MARION Processed 150\n",
            "FORREST Processed 150\n",
            "DESOTO Processed 150\n",
            "YAZOO Processed 150\n",
            "HANCOCK Processed 200\n",
            "MARION Processed 200\n",
            "HARRISON Processed 200\n",
            "DESOTO Processed 200\n",
            "FORREST Processed 200\n",
            "YAZOO Processed 200\n",
            "Exiting HANCOCK\n",
            "\n",
            "MARION Processed 250\n",
            "HARRISON Processed 250\n",
            "DESOTO Processed 250\n",
            "Exiting MARION\n",
            "\n",
            "FORREST Processed 250\n",
            "YAZOO Processed 250\n",
            "Exiting YAZOO\n",
            "\n",
            "Exiting FORREST\n",
            "\n",
            "HARRISON Processed 300\n",
            "DESOTO Processed 300\n",
            "HARRISON Processed 350\n",
            "DESOTO Processed 350\n",
            "HARRISON Processed 400\n",
            "DESOTO Processed 400\n",
            "HARRISON Processed 450\n",
            "DESOTO Processed 450\n",
            "Exiting DESOTO\n",
            "\n",
            "HARRISON Processed 500\n",
            "HARRISON Processed 550\n",
            "HARRISON Processed 600\n",
            "HARRISON Processed 650\n",
            "Exiting HARRISON\n",
            "\n",
            "Finished scraping\n"
          ]
        }
      ]
    },
    {
      "cell_type": "code",
      "source": [
        ""
      ],
      "metadata": {
        "id": "ALife37Zg4of"
      },
      "execution_count": 9,
      "outputs": []
    }
  ]
}