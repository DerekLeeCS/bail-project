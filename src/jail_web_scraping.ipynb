{
  "nbformat": 4,
  "nbformat_minor": 0,
  "metadata": {
    "colab": {
      "name": "jail_web_scraping.ipynb",
      "provenance": [],
      "collapsed_sections": []
    },
    "kernelspec": {
      "name": "python3",
      "display_name": "Python 3"
    },
    "language_info": {
      "name": "python"
    }
  },
  "cells": [
    {
      "cell_type": "code",
      "source": [
        "from typing import Union\n",
        "from enum import Enum, unique\n",
        "\n",
        "import pandas as pd\n",
        "import os\n",
        "import time\n",
        "\n",
        "import urllib\n",
        "import requests\n",
        "import ssl\n",
        "import certifi\n",
        "\n",
        "from random import randint\n",
        "\n",
        "from datetime import datetime\n",
        "from pytz import timezone\n",
        "\n",
        "import threading\n",
        "import IPython\n",
        "\n",
        "# Used for debugging; pretty print JSON strings\n",
        "import json"
      ],
      "metadata": {
        "id": "OS7Po5Gqy7tr"
      },
      "execution_count": 1,
      "outputs": []
    },
    {
      "cell_type": "code",
      "execution_count": 2,
      "metadata": {
        "id": "lhqLGdsry29O",
        "colab": {
          "base_uri": "https://localhost:8080/"
        },
        "outputId": "e892aac8-c1b4-4090-ef48-58fe8d57b915"
      },
      "outputs": [
        {
          "output_type": "stream",
          "name": "stdout",
          "text": [
            "Mounted at /content/drive\n"
          ]
        }
      ],
      "source": [
        "from google.colab import drive\n",
        "drive.mount('/content/drive')"
      ]
    },
    {
      "cell_type": "code",
      "source": [
        "if not os.path.exists('/content/drive/MyDrive/'):\n",
        "    raise Exception(\"Error: Mount Google Drive before continuing!\")\n",
        "\n",
        "BASE_DIR = '/content/drive/MyDrive/Data Science for Social Good - Spring 2022/data/'\n",
        "\n",
        "# Define directory that contains intermediate SSL certificates\n",
        "CERT_DIR = BASE_DIR + 'certificates/'\n",
        "\n",
        "# Define directories to save data\n",
        "SCRAPE_DIR = BASE_DIR + 'scraped_files/'\n",
        "DATA_DIR = SCRAPE_DIR + 'DATA/'\n",
        "\n",
        "current_date = datetime.now(timezone('US/Eastern')).strftime(\"%m-%d-%Y\")\n",
        "\n",
        "# Create all directories on the given paths if needed\n",
        "os.makedirs(DATA_DIR + current_date, exist_ok=True)\n",
        "print(\"Date used for scraping:\", current_date)"
      ],
      "metadata": {
        "colab": {
          "base_uri": "https://localhost:8080/"
        },
        "id": "e9MsX6May6ms",
        "outputId": "e4682c27-5674-4ebd-9e58-9b6fe42b6ee2"
      },
      "execution_count": 3,
      "outputs": [
        {
          "output_type": "stream",
          "name": "stdout",
          "text": [
            "Date used for scraping: 03-06-2022\n"
          ]
        }
      ]
    },
    {
      "cell_type": "markdown",
      "source": [
        "# Helper Functions and Classes"
      ],
      "metadata": {
        "id": "fR8wSuIfzlDk"
      }
    },
    {
      "cell_type": "code",
      "source": [
        "@unique\n",
        "class CountyWithCaptcha(Enum):\n",
        "    DESOTO = 'DeSoto'\n",
        "    FORREST = 'Forrest'\n",
        "    HANCOCK = 'Hancock'\n",
        "    HARRISON = 'Harrison'\n",
        "    LAMAR = 'Lamar'\n",
        "    MARION = 'Marion'\n",
        "    PERRY = 'Perry'\n",
        "    YAZOO = 'Yazoo'\n",
        "\n",
        "    # Return Name, rather than CountyWithCaptcha.Name\n",
        "    def __str__(self):\n",
        "        return self.name\n",
        "\n",
        "\n",
        "@unique\n",
        "class CountyWithoutCaptcha(Enum):\n",
        "    # The commented out counties only have the total bond, not bond by crime\n",
        "    PEARL_RIVER = 'PearlRiver'\n",
        "    JACKSON = 'Jackson'\n",
        "    MADISON = 'Madison'\n",
        "    # ADAMS = 'Adams'\n",
        "    # CLAY = 'Clay'\n",
        "    # JONES = 'Jones'\n",
        "    # TUNICA = 'Tunica'\n",
        "\n",
        "    # Return Name, rather than CountyWithoutCaptcha.Name\n",
        "    def __str__(self):\n",
        "        return self.name\n",
        "\n",
        "\n",
        "# Define a custom type to pass into functions\n",
        "County = Union[CountyWithCaptcha, CountyWithoutCaptcha]\n",
        "\n",
        "\n",
        "def get_county_filename(county: County) -> str:\n",
        "    return f'{str(current_date)}_{county.value}.csv'"
      ],
      "metadata": {
        "id": "6a2YyDv2zpw4"
      },
      "execution_count": 4,
      "outputs": []
    },
    {
      "cell_type": "code",
      "source": [
        "jail_captcha_links = {\n",
        "    CountyWithCaptcha.DESOTO: 'https://omsweb.public-safety-cloud.com/jtclientweb/Offender/DeSoto_County_MS/',\n",
        "    CountyWithCaptcha.FORREST: 'https://omsweb.public-safety-cloud.com/jtclientweb/Offender/Forrest_County_MS/',\n",
        "    CountyWithCaptcha.HANCOCK: 'https://omsweb.public-safety-cloud.com/jtclientweb/Offender/HANCOCK_COUNTY_MS/',\n",
        "    CountyWithCaptcha.HARRISON: 'https://omsweb.public-safety-cloud.com/jtclientweb/Offender/HARRISON_COUNTY_JAIL_MS/',\n",
        "    CountyWithCaptcha.LAMAR: 'https://omsweb.public-safety-cloud.com/jtclientweb/Offender/Lamar_County_MS/',\n",
        "    CountyWithCaptcha.MARION: 'https://omsweb.public-safety-cloud.com/jtclientweb/Offender/Marion_County_MS/',\n",
        "    CountyWithCaptcha.PERRY: 'https://omsweb.public-safety-cloud.com/jtclientweb/Offender/Perry_County_MS/',\n",
        "    CountyWithCaptcha.YAZOO: 'https://omsweb.public-safety-cloud.com/jtclientweb/Offender/Yazoo_County_MS/',\n",
        "}"
      ],
      "metadata": {
        "id": "1FnFWhPZ4NQx"
      },
      "execution_count": 5,
      "outputs": []
    },
    {
      "cell_type": "code",
      "source": [
        "def read_url(request: Union[str, urllib.request.Request]) -> str:\n",
        "    NUM_SECONDS_TIMEOUT = 10\n",
        "\n",
        "    ctx = ssl.create_default_context(ssl.Purpose.CLIENT_AUTH, cafile=certifi.where())\n",
        "    response = urllib.request.urlopen(request, timeout=NUM_SECONDS_TIMEOUT, context=ctx)\n",
        "    data = response.read()\n",
        "    response.close()\n",
        "    return data\n",
        "\n",
        "\n",
        "def request_url(request: str, county: County) -> Union[str, None]:\n",
        "    if county in {CountyWithoutCaptcha.ADAMS, CountyWithoutCaptcha.MADISON}:\n",
        "        user_agent = 'Mozilla/5.0 (Windows; U; Windows NT 5.1; en-US; rv:1.9.0.7) Gecko/2009021910 Firefox/3.0.7'\n",
        "        headers = {'User-Agent': user_agent}\n",
        "        request = urllib.request.Request(request, headers=headers)\n",
        "\n",
        "    # Try the connection until success or NUM_ATTEMPTS is exceeded\n",
        "    NUM_ATTEMPTS = 4\n",
        "    for _ in range(NUM_ATTEMPTS):\n",
        "        try:\n",
        "            return read_url(request)\n",
        "        except urllib.error.URLError as str_error:\n",
        "            time.sleep(0.5)\n",
        "            print(\"Exception:\", county, str_error)\n",
        "\n",
        "    print(\"Request failed for\", county)\n",
        "    return None"
      ],
      "metadata": {
        "id": "akoAUMqFzDvo"
      },
      "execution_count": 6,
      "outputs": []
    },
    {
      "cell_type": "markdown",
      "source": [
        "# Add missing intermediate SSL certificates\n",
        "\n",
        "---\n",
        "\n",
        "This should only be run once per session.\n",
        "\n",
        "According to https://stackoverflow.com/a/64835339, Python cannot automatically download intermediate SSL certificates. \n",
        "\n",
        "For Jackson, this results in an SSL: CERTIFICATE_VERIFY_FAILED error. We add the intermediate certificates found at: https://services.co.jackson.ms.us/jaildocket/_inmateList.php"
      ],
      "metadata": {
        "id": "yTJ_imq6k-BT"
      }
    },
    {
      "cell_type": "code",
      "source": [
        "with open(certifi.where(), 'a') as global_cert_file:\n",
        "    for filename in os.listdir(CERT_DIR):\n",
        "        with open(CERT_DIR + filename, 'r') as missing_cert_file:\n",
        "            cert_data = missing_cert_file.read()\n",
        "            global_cert_file.write('\\n' + cert_data)"
      ],
      "metadata": {
        "id": "Y2Q6Hac-k62j"
      },
      "execution_count": 7,
      "outputs": []
    },
    {
      "cell_type": "markdown",
      "source": [
        "# Counties with Captchas Scraper\n",
        "\n",
        "---\n",
        "\n"
      ],
      "metadata": {
        "id": "pg782r6e4lKM"
      }
    },
    {
      "cell_type": "code",
      "source": [
        "def county_with_captcha_scraper(county: CountyWithCaptcha, captcha_key: str):\n",
        "    jail_url = jail_captcha_links[county]\n",
        "    jail_record_data = requests.post(\n",
        "        jail_url,\n",
        "        json={'captchaKey': captcha_key}\n",
        "    )\n",
        "    jail_record_data_json = jail_record_data.json()\n",
        "    offender_view_key = jail_record_data_json['offenderViewKey']\n",
        "    num_offenders = len(jail_record_data_json['offenders'])\n",
        "    print(county, \"Number of offenders:\", num_offenders)\n",
        "\n",
        "    def get_inmate_url(arrest_num: str):\n",
        "        def gen_random_num_with_n_digits(n: int):\n",
        "            \"\"\"Based on:\n",
        "            https://stackoverflow.com/a/2673399\n",
        "            \"\"\"\n",
        "            range_start = 10 ** (n - 1)\n",
        "            range_end = (10 ** n) - 1\n",
        "            return randint(range_start, range_end)\n",
        "\n",
        "        # Apparently the offender view key is just a random number (and the length doesn't matter)?\n",
        "        # We need an offender view key to make our request\n",
        "        # We use the default length that the website uses, which is 9\n",
        "        LEN_VIEW_KEY = 9\n",
        "        random_offender_view_key = gen_random_num_with_n_digits(LEN_VIEW_KEY)\n",
        "        return f'{jail_url}{arrest_num}/offenderbucket/{random_offender_view_key}'\n",
        "\n",
        "    offender_data = []\n",
        "    cur_num_processed = 0\n",
        "    for offender in jail_record_data_json['offenders']:\n",
        "        arrest_num = offender['arrestNo']\n",
        "        inmate_url = get_inmate_url(arrest_num)\n",
        "        inmate_data = requests.post(\n",
        "            inmate_url,\n",
        "            json={'captchaKey': captcha_key}\n",
        "        )\n",
        "        inmate_data_json = inmate_data.json()\n",
        "\n",
        "        # Add basic data\n",
        "        row = {}\n",
        "        row['Arrest Number'] = arrest_num\n",
        "        row['Cases'] = inmate_data_json['cases']\n",
        "        row['Charges'] = inmate_data_json['charges']\n",
        "\n",
        "        # Add special fields\n",
        "        for field in inmate_data_json['offenderSpecialFields']:\n",
        "            field_name = field['labelText'].strip(':')\n",
        "            row[field_name] = field['offenderValue']\n",
        "\n",
        "        offender_data.append(row)\n",
        "        cur_num_processed += 1\n",
        "        if cur_num_processed % 50 == 0:\n",
        "            print(county, \"Processed\", cur_num_processed)\n",
        "\n",
        "    df = pd.DataFrame(offender_data)\n",
        "\n",
        "    filename = get_county_filename(county)\n",
        "    df.to_csv(f'{DATA_DIR}{current_date}/{filename}')"
      ],
      "metadata": {
        "id": "6qjLmPVc4qsA"
      },
      "execution_count": 8,
      "outputs": []
    },
    {
      "cell_type": "markdown",
      "source": [
        "# Main Web Scraper\n",
        "\n",
        "---\n",
        "\n"
      ],
      "metadata": {
        "id": "etUaTa_B62nW"
      }
    },
    {
      "cell_type": "code",
      "source": [
        "class WebScraperThread(threading.Thread):\n",
        "    def __init__(self, thread_id: int, county: County, captcha_key: str = None):\n",
        "        threading.Thread.__init__(self)\n",
        "        self.thread_id = thread_id\n",
        "        self.county = county\n",
        "        self.captcha_key = captcha_key\n",
        "\n",
        "    def run(self):\n",
        "        print(\"Starting\", self.county)\n",
        "\n",
        "        if self.county in CountyWithCaptcha:\n",
        "            county_with_captcha_scraper(self.county, self.captcha_key)\n",
        "        # elif self.county == CountyWithoutCaptcha.PEARL_RIVER:\n",
        "        #     pearl_river()\n",
        "        # elif self.county == CountyWithoutCaptcha.CLAY:\n",
        "        #     clay()\n",
        "        # elif self.county == CountyWithoutCaptcha.ADAMS:\n",
        "        #     adams()\n",
        "        # elif self.county == CountyWithoutCaptcha.HINDS:\n",
        "        #     hinds()\n",
        "        # elif self.county == CountyWithoutCaptcha.JACKSON:\n",
        "        #     jackson()\n",
        "        # elif self.county == CountyWithoutCaptcha.JONES:\n",
        "        #     jones()\n",
        "        # elif self.county == CountyWithoutCaptcha.KEMPER:\n",
        "        #     kemper()\n",
        "        # elif self.county == CountyWithoutCaptcha.MADISON:\n",
        "        #     madison()\n",
        "        # elif self.county == CountyWithoutCaptcha.TUNICA:\n",
        "        #     tunica()\n",
        "        else:\n",
        "            raise Exception(\"County not found:\", self.county)\n",
        "\n",
        "        print(\"Exiting\", self.county, end='\\n\\n')"
      ],
      "metadata": {
        "id": "__7zx5ye7xQG"
      },
      "execution_count": 9,
      "outputs": []
    },
    {
      "cell_type": "code",
      "source": [
        "threads = []\n",
        "thread_id = 1\n",
        "\n",
        "# Get a captcha key for the counties that require captchas\n",
        "is_captcha_matched = False\n",
        "while not is_captcha_matched:\n",
        "    captcha_data = requests.get('https://omsweb.public-safety-cloud.com/jtclientweb/captcha/getnewcaptchaclient')\n",
        "    image = captcha_data.json()['captchaImage']\n",
        "\n",
        "    # To be used later for automated captcha solver\n",
        "    # # Save the image to a file\n",
        "    # import base64\n",
        "    # import matplotlib.pyplot as plt\n",
        "    # img = image.split('base64,')[-1]\n",
        "    # x = base64.decodebytes(img.encode('ascii'))\n",
        "    # with open('captcha.jpg', 'wb') as f:\n",
        "    #     f.write(x)\n",
        "\n",
        "    html = f'<img src=\"{image}\"/>'\n",
        "    IPython.display.display(IPython.display.HTML(html))\n",
        "    user_code = input()\n",
        "\n",
        "    captcha_response_data = requests.post(\n",
        "        'https://omsweb.public-safety-cloud.com/jtclientweb/Captcha/validatecaptcha',\n",
        "        json={'userCode': user_code, 'captchaKey': captcha_data.json()['captchaKey']}\n",
        "    )\n",
        "    is_captcha_matched = captcha_response_data.json()['captchaMatched']\n",
        "    captcha_key = captcha_response_data.json()['captchaKey']\n",
        "\n",
        "    if not is_captcha_matched:\n",
        "        print(\"Incorrect captcha\")\n",
        "\n",
        "for county in CountyWithCaptcha:\n",
        "    thread = WebScraperThread(thread_id, county, captcha_key)\n",
        "    threads.append(thread)\n",
        "    thread_id += 1\n",
        "\n",
        "# for county in CountyWithoutCaptcha:\n",
        "#     thread = WebScraperThread(thread_id, county)\n",
        "#     threads.append(thread)\n",
        "#     thread_id += 1\n",
        "\n",
        "for t in threads:\n",
        "    t.start()\n",
        "\n",
        "# Wait for all threads to complete\n",
        "for t in threads:\n",
        "    t.join()\n",
        "\n",
        "print(\"Finished scraping\")"
      ],
      "metadata": {
        "id": "kgGiJkcO652e",
        "colab": {
          "base_uri": "https://localhost:8080/",
          "height": 1000
        },
        "outputId": "6ae320bb-af3d-4af7-ae7d-bcb12405da5c"
      },
      "execution_count": 11,
      "outputs": [
        {
          "output_type": "display_data",
          "data": {
            "text/html": [
              "<img src=\"data:image/gif;base64,iVBORw0KGgoAAAANSUhEUgAAAGQAAAAkCAYAAAB/up84AAAAAXNSR0IArs4c6QAAAARnQU1BAACxjwv8YQUAAAAJcEhZcwAADsMAAA7DAcdvqGQAAAMCSURBVGhD7Zi9ahtBEIDzCnHjkEIhIo27NOncyJXdGBUBB7UyCFzYhVQErHRK5xCOYAmjBIGxDLYKWchgnIewi7yFX2Jyez6td/bm/nd1u+KKr9Ds3km6j5nZuVd/n+6gxBysF/LhY5NDrduGtUJEEaWQArFJxHr1LYdap7BGiI0SRKi9FMYLsVkEtS8OI4XIEkwVQUlgUHuTYpQQW0SIqJAgYoQQG0VwHsewU/0FG+99qmdw/EjsS0ihQqwW4eJ0fAn1MVx6sQk0F3I6k8D+JBQixGYJnNsRz4qd/ozHL/tnZDwpSxWyEiI8ZnBc9zPBpXkrrAmiNqojcNB18WgXIkvQLuLfNRzU/sCXrfTs7V/DhLpnAKE0yUIi1+JZSoYsRcQCX8jBaI7iv3v44XfvhWue5vBjP4UQqZHj0oSFpC1bhTZ1LbhCupIMRrQQxhS6GTOkFJKBeCHp4CcsBj9lMUohiVAtRC5bL73Cgh5iAsqFeODTVoAMQ2IpRDHiHIJLWTJKIUqJmE8SUgpRSN7sYMQIOYGfa+vw9fWbZ9YaMCb3mY92ITkn9AXhQmYNX8ImDB9YzJfDP6vCgaPKJ9h6h6lV6tDzGuIF9HapeDp0CkGZkUMGI0SIkBmHJzw+PvRj2x24QfvzgqXUKi0YSHuuTuuZZTB0CEEiXNLOHBSkkBtnk5ep7855MK48S1zmLS6EcTTH60xI4/QCxdKgVIii8kRBCDmH4fZL3yCFSHE1SKVp9xtcobXs2cFYRlNXASFEauQhqBfiImQJKk9uvNZ2gvtTsDJCtDz4UKQs8SUM2sESlo4pdKVX8vLbYFOILVnqG3g0rFfgLGENP9jkkxEUIbPXmxLXFQfZ1PlpikE18IcODGdSTBnBY3CeZi7S/9zKBHUvXZBC+AzCpYgDoVvSNGcNK1E4S/A69dB0In63bmghLihLkBx1R17qz+uE+g2mESrEQ84UxZlBPbQkUPdaFaKFFAk76mZu5vZitpCcs4eNGCLk+WQlZsSgnW8yt5M7+A/7oJyAhuV6lwAAAABJRU5ErkJggg==\"/>"
            ],
            "text/plain": [
              "<IPython.core.display.HTML object>"
            ]
          },
          "metadata": {}
        },
        {
          "output_type": "stream",
          "name": "stdout",
          "text": [
            "eyT9\n",
            "Starting DESOTOStarting FORREST\n",
            "\n",
            "Starting HANCOCK\n",
            "StartingStartingStarting LAMAR  MARION\n",
            "Starting\n",
            "HARRISON PERRY\n",
            "\n",
            "Starting YAZOO\n",
            "PERRY Number of offenders: 27\n",
            "HANCOCK Number of offenders: 241\n",
            "LAMAR Number of offenders: 99\n",
            "YAZOO Number of offenders: 262\n",
            "DESOTO Number of offenders: 481\n",
            "FORREST Number of offenders: 289\n",
            "MARION Number of offenders: 256\n",
            "HARRISON Number of offenders: 650\n",
            "Exiting PERRY\n",
            "\n",
            "HANCOCK Processed 50\n",
            "MARION Processed 50\n",
            "DESOTO Processed 50\n",
            "YAZOO Processed 50\n",
            "FORREST Processed 50\n",
            "HARRISON Processed 50\n",
            "LAMAR Processed 50\n",
            "HANCOCK Processed 100\n",
            "DESOTO Processed 100\n",
            "MARION Processed 100\n",
            "YAZOO Processed 100\n",
            "HARRISON Processed 100\n",
            "FORREST Processed 100\n",
            "Exiting LAMAR\n",
            "\n",
            "HANCOCK Processed 150\n",
            "DESOTO Processed 150\n",
            "MARION Processed 150\n",
            "HARRISON Processed 150\n",
            "FORREST Processed 150\n",
            "YAZOO Processed 150\n",
            "HANCOCK Processed 200\n",
            "MARION Processed 200\n",
            "DESOTO Processed 200\n",
            "HARRISON Processed 200\n",
            "FORREST Processed 200\n",
            "YAZOO Processed 200\n",
            "Exiting HANCOCK\n",
            "\n",
            "MARION Processed 250\n",
            "Exiting MARION\n",
            "\n",
            "HARRISON Processed 250\n",
            "DESOTO Processed 250\n",
            "FORREST Processed 250\n",
            "YAZOO Processed 250\n",
            "Exiting YAZOO\n",
            "\n",
            "Exiting FORREST\n",
            "\n",
            "HARRISON Processed 300\n",
            "DESOTO Processed 300\n",
            "HARRISON Processed 350\n",
            "DESOTO Processed 350\n",
            "HARRISON Processed 400\n",
            "DESOTO Processed 400\n",
            "HARRISON Processed 450\n",
            "DESOTO Processed 450\n",
            "HARRISON Processed 500\n",
            "Exiting DESOTO\n",
            "\n",
            "HARRISON Processed 550\n",
            "HARRISON Processed 600\n",
            "HARRISON Processed 650\n",
            "Exiting HARRISON\n",
            "\n",
            "Finished scraping\n"
          ]
        }
      ]
    }
  ]
}