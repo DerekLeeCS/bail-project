{
  "cells": [
    {
      "cell_type": "code",
      "execution_count": 81,
      "metadata": {
        "id": "Z0GGfzT6H-FX"
      },
      "outputs": [],
      "source": [
        "from typing import List\n",
        "\n",
        "import pandas as pd\n",
        "import re\n",
        "import os"
      ]
    },
    {
      "cell_type": "code",
      "source": [
        "from google.colab import drive\n",
        "drive.mount('/content/drive')"
      ],
      "metadata": {
        "id": "WWljSjPIdoTU"
      },
      "execution_count": null,
      "outputs": []
    },
    {
      "cell_type": "code",
      "source": [
        "if not os.path.exists('/content/drive/MyDrive/'):\n",
        "    raise Exception(\"Error: Mount Google Drive before continuing!\")"
      ],
      "metadata": {
        "id": "FgzPOWWHVumr"
      },
      "execution_count": 83,
      "outputs": []
    },
    {
      "cell_type": "code",
      "source": [
        "BASE_DIR = '/content/drive/MyDrive/Data Science for Social Good - Spring 2022/data/'\n",
        "DATA_DIR = BASE_DIR + 'CLEAN/'\n",
        "CLEAN_DIR = BASE_DIR + 'merged_data/'\n",
        "JACKSON_DIR = CLEAN_DIR + 'jackson/'\n",
        "\n",
        "os.makedirs(JACKSON_DIR, exist_ok=True)"
      ],
      "metadata": {
        "id": "MiP9mECNgk9K"
      },
      "execution_count": 84,
      "outputs": []
    },
    {
      "cell_type": "code",
      "source": [
        "df_list = []\n",
        "for sub_dir, dirs, files in os.walk(DATA_DIR):\n",
        "    # Skip the first iteration because it starts at DATA_DIR/\n",
        "    # We want DATA_DIR/<DATE>/\n",
        "    cur_dir = sub_dir.split('/')[-1]\n",
        "    if cur_dir == '':\n",
        "        continue\n",
        "\n",
        "    jackson_filename = f'{sub_dir}/{cur_dir}_Jackson.csv'\n",
        "    if os.path.exists(jackson_filename):\n",
        "        df_list.append(pd.read_csv(jackson_filename))\n",
        "\n",
        "df = pd.concat(df_list, axis=0)"
      ],
      "metadata": {
        "id": "NRNxRpFeWG6O"
      },
      "execution_count": 85,
      "outputs": []
    },
    {
      "cell_type": "code",
      "source": [
        "df.info()"
      ],
      "metadata": {
        "colab": {
          "base_uri": "https://localhost:8080/"
        },
        "id": "vEMTqPt9CYyh",
        "outputId": "ab2fa8e9-83ff-4f8f-fbff-10a933836832"
      },
      "execution_count": 86,
      "outputs": [
        {
          "output_type": "stream",
          "name": "stdout",
          "text": [
            "<class 'pandas.core.frame.DataFrame'>\n",
            "Int64Index: 76573 entries, 0 to 362\n",
            "Data columns (total 12 columns):\n",
            " #   Column          Non-Null Count  Dtype  \n",
            "---  ------          --------------  -----  \n",
            " 0   Book_Number     76573 non-null  object \n",
            " 1   Name_Last       76573 non-null  object \n",
            " 2   Name_Middle     74181 non-null  object \n",
            " 3   Name_First_MI   76573 non-null  object \n",
            " 4   BookDate        76573 non-null  object \n",
            " 5   ArrestDate      76573 non-null  object \n",
            " 6   Arrest_Agency   76573 non-null  object \n",
            " 7   ID_Number       76573 non-null  int64  \n",
            " 8   Total Bond($)   76181 non-null  float64\n",
            " 9   Bondable?       76181 non-null  object \n",
            " 10  inmate_info     76181 non-null  object \n",
            " 11  inmate_offense  76181 non-null  object \n",
            "dtypes: float64(1), int64(1), object(10)\n",
            "memory usage: 7.6+ MB\n"
          ]
        }
      ]
    },
    {
      "cell_type": "markdown",
      "source": [
        "# Merge the data"
      ],
      "metadata": {
        "id": "clhKp3kK35Fe"
      }
    },
    {
      "cell_type": "code",
      "source": [
        "# Process different date formats\n",
        "df1 = df[df['BookDate'].str.contains('/')].copy()\n",
        "df2 = df[df['BookDate'].str.contains('-')].copy()\n",
        "\n",
        "# Convert to a single date format\n",
        "df1['BookDate'] = pd.to_datetime(df1['BookDate'], infer_datetime_format=True)\n",
        "df2['BookDate'] = pd.to_datetime(df2['BookDate'], infer_datetime_format=True)\n",
        "\n",
        "# Merge the two dataframes since they have the same date format\n",
        "df_new = pd.concat([df1, df2], axis=0)\n",
        "\n",
        "# Remove duplicates and keep the most recent entry\n",
        "df_new.sort_values('BookDate', inplace=True)\n",
        "df_new.drop_duplicates('Book_Number', keep='last', inplace=True)\n",
        "\n",
        "df_new = df_new.dropna(subset=['inmate_info'])\n",
        "df_new.reset_index(drop=True, inplace=True)"
      ],
      "metadata": {
        "id": "NSXFUWsE34kh"
      },
      "execution_count": 87,
      "outputs": []
    },
    {
      "cell_type": "code",
      "source": [
        "df_new.info()"
      ],
      "metadata": {
        "colab": {
          "base_uri": "https://localhost:8080/"
        },
        "id": "eEVB9aFSGXLj",
        "outputId": "2b85048a-c654-4b25-a86f-0b5609388897"
      },
      "execution_count": 88,
      "outputs": [
        {
          "output_type": "stream",
          "name": "stdout",
          "text": [
            "<class 'pandas.core.frame.DataFrame'>\n",
            "RangeIndex: 3008 entries, 0 to 3007\n",
            "Data columns (total 12 columns):\n",
            " #   Column          Non-Null Count  Dtype         \n",
            "---  ------          --------------  -----         \n",
            " 0   Book_Number     3008 non-null   object        \n",
            " 1   Name_Last       3008 non-null   object        \n",
            " 2   Name_Middle     2903 non-null   object        \n",
            " 3   Name_First_MI   3008 non-null   object        \n",
            " 4   BookDate        3008 non-null   datetime64[ns]\n",
            " 5   ArrestDate      3008 non-null   object        \n",
            " 6   Arrest_Agency   3008 non-null   object        \n",
            " 7   ID_Number       3008 non-null   int64         \n",
            " 8   Total Bond($)   3008 non-null   float64       \n",
            " 9   Bondable?       3008 non-null   object        \n",
            " 10  inmate_info     3008 non-null   object        \n",
            " 11  inmate_offense  3008 non-null   object        \n",
            "dtypes: datetime64[ns](1), float64(1), int64(1), object(9)\n",
            "memory usage: 282.1+ KB\n"
          ]
        }
      ]
    },
    {
      "cell_type": "markdown",
      "source": [
        "# **Clean Data**"
      ],
      "metadata": {
        "id": "lHwzByDGgRFI"
      }
    },
    {
      "cell_type": "code",
      "source": [
        "# Based on the way the data is collected the inmate_info column should have 7 info points in it\n",
        "NUM_INFO_EXPECTED = 7"
      ],
      "metadata": {
        "id": "zg6D0oUAleTh"
      },
      "execution_count": 89,
      "outputs": []
    },
    {
      "cell_type": "code",
      "source": [
        "def get_as_list(row: str) -> List[str]:\n",
        "    \"\"\"Get every offense between two single quotes.\n",
        "    E.g. \"['AGG.ASAULT ON POLICE,FIRE,SCHOOL', 'AGG.ASAULT']\" -> ['AGG.ASAULT ON POLICE,FIRE,SCHOOL', 'AGG.ASAULT']\n",
        "    \"\"\"\n",
        "    # There are some crimes that are contained within double quotes\n",
        "    # E.g. \"INTERFERING WITH DRIVER'S VIEW\"\n",
        "    # We get all strings inside the double quotes and swap the single quotes with the double quotes and vice versa\n",
        "    # E.g. 'INTERFERING WITH DRIVER\"S VIEW'\n",
        "    double_quote_contents = re.findall('\"([^\"]*)\"', row)\n",
        "    original_double_quote = [f'\"{x}\"' for x in double_quote_contents]\n",
        "    single_quote_contents = [x.replace(\"'\", '\"') for x in double_quote_contents]\n",
        "    converted_single_quote = [f\"'{x}'\" for x in single_quote_contents]\n",
        "\n",
        "    # Swap single quotes with double quotes and vice versa\n",
        "    for original, new in zip(original_double_quote, converted_single_quote):\n",
        "        row = row.replace(original, new)\n",
        "\n",
        "    return re.findall(\"'([^']*)'\", row)"
      ],
      "metadata": {
        "id": "G89hUdiWb5J0"
      },
      "execution_count": 90,
      "outputs": []
    },
    {
      "cell_type": "code",
      "execution_count": 91,
      "metadata": {
        "id": "rjt54L0sIL0k"
      },
      "outputs": [],
      "source": [
        "def create_temp_df(data):\n",
        "    \"\"\"Take in the raw dataframe.\n",
        "    Output the temp df with the new columns.\n",
        "    Create a temp df that has all of the inmates info split.\n",
        "    \"\"\"\n",
        "    col = ['race_sex', 'weight', 'height', 'eye_color', 'age', 'booking_num', 'is_bondable']\n",
        "    info_split = pd.DataFrame(data['inmate_info'].to_list(), columns=col)\n",
        "    info_split.reset_index(drop=True, inplace=True)\n",
        "    info_split = info_split.dropna()\n",
        "\n",
        "    # Race\n",
        "    info_split[\"Race\"] = info_split[\"race_sex\"].map(lambda x: x.split(\" \")[0])\n",
        "    info_split[\"Race\"] = info_split[\"Race\"].replace(\"Not\", \"N/A\")\n",
        "\n",
        "    # Sex\n",
        "    info_split[\"Sex\"] = info_split['race_sex'].map(lambda x: x.split(\" \")[-1])\n",
        "\n",
        "    # Weight\n",
        "    info_split[\"Weight (Pounds)\"] = info_split['weight'].map(lambda x: x.split(\" \")[0])\n",
        "\n",
        "    # Age\n",
        "    info_split[\"Age\"] = info_split['age'].map(lambda x: x.split(\" \")[0])\n",
        "\n",
        "    # Drop unused columns\n",
        "    info_split = info_split.drop(col, axis=1)\n",
        "\n",
        "    return info_split"
      ]
    },
    {
      "cell_type": "code",
      "source": [
        "def clean_jackson(data):\n",
        "    \"\"\"Take in the raw dataframe.\n",
        "    Output cleaned dataframe.\n",
        "    Combine the temp df made from the inmate info col and remove inmates that are missing info\n",
        "    \"\"\"\n",
        "    data['inmate_info'] = data['inmate_info'].map(get_as_list)\n",
        "\n",
        "    data['inmate_offense'] = data['inmate_offense'].map(get_as_list)\n",
        "\n",
        "    info_split = create_temp_df(data)\n",
        "\n",
        "    data_cleaned = pd.concat([data, info_split], axis=1)\n",
        "    data_cleaned = data_cleaned.drop(data_cleaned[data_cleaned['inmate_info'].map(len) != NUM_INFO_EXPECTED].index)\n",
        "    data_cleaned = data_cleaned.drop(['inmate_info'], axis=1)\n",
        "\n",
        "    return data_cleaned"
      ],
      "metadata": {
        "id": "GDf6Ph2EMAXU"
      },
      "execution_count": 92,
      "outputs": []
    },
    {
      "cell_type": "code",
      "source": [
        "data_cleaned = clean_jackson(df_new)"
      ],
      "metadata": {
        "id": "ewvSIT1vMYAF"
      },
      "execution_count": 93,
      "outputs": []
    },
    {
      "cell_type": "code",
      "source": [
        "data_cleaned.head()"
      ],
      "metadata": {
        "colab": {
          "base_uri": "https://localhost:8080/",
          "height": 354
        },
        "id": "PtYAOlC-HL4A",
        "outputId": "1edacdb3-2652-43ff-f325-fafd0b1acefe"
      },
      "execution_count": 94,
      "outputs": [
        {
          "output_type": "execute_result",
          "data": {
            "text/html": [
              "\n",
              "  <div id=\"df-bba03e9f-4511-4942-a286-74085682de08\">\n",
              "    <div class=\"colab-df-container\">\n",
              "      <div>\n",
              "<style scoped>\n",
              "    .dataframe tbody tr th:only-of-type {\n",
              "        vertical-align: middle;\n",
              "    }\n",
              "\n",
              "    .dataframe tbody tr th {\n",
              "        vertical-align: top;\n",
              "    }\n",
              "\n",
              "    .dataframe thead th {\n",
              "        text-align: right;\n",
              "    }\n",
              "</style>\n",
              "<table border=\"1\" class=\"dataframe\">\n",
              "  <thead>\n",
              "    <tr style=\"text-align: right;\">\n",
              "      <th></th>\n",
              "      <th>Book_Number</th>\n",
              "      <th>Name_Last</th>\n",
              "      <th>Name_Middle</th>\n",
              "      <th>Name_First_MI</th>\n",
              "      <th>BookDate</th>\n",
              "      <th>ArrestDate</th>\n",
              "      <th>Arrest_Agency</th>\n",
              "      <th>ID_Number</th>\n",
              "      <th>Total Bond($)</th>\n",
              "      <th>Bondable?</th>\n",
              "      <th>inmate_offense</th>\n",
              "      <th>Race</th>\n",
              "      <th>Sex</th>\n",
              "      <th>Weight (Pounds)</th>\n",
              "      <th>Age</th>\n",
              "    </tr>\n",
              "  </thead>\n",
              "  <tbody>\n",
              "    <tr>\n",
              "      <th>0</th>\n",
              "      <td>NJCADC0000008926</td>\n",
              "      <td>STAFFORD</td>\n",
              "      <td>ELLIOT</td>\n",
              "      <td>THOMAS</td>\n",
              "      <td>2017-04-21</td>\n",
              "      <td>04/21/2017</td>\n",
              "      <td>PTS</td>\n",
              "      <td>200999332</td>\n",
              "      <td>0.0</td>\n",
              "      <td>No</td>\n",
              "      <td>[MURDER, Felony - Bond: $0.00]</td>\n",
              "      <td>White</td>\n",
              "      <td>Male</td>\n",
              "      <td>160</td>\n",
              "      <td>44</td>\n",
              "    </tr>\n",
              "    <tr>\n",
              "      <th>1</th>\n",
              "      <td>NJCADC0000010774</td>\n",
              "      <td>PRICE</td>\n",
              "      <td>LAKENA</td>\n",
              "      <td>ANDREA</td>\n",
              "      <td>2017-07-08</td>\n",
              "      <td>07/22/2017</td>\n",
              "      <td>MPPD</td>\n",
              "      <td>200959047</td>\n",
              "      <td>2500.0</td>\n",
              "      <td>No</td>\n",
              "      <td>[BOND REVOKED, Felony - Bond: $0.00, AGGRAVATE...</td>\n",
              "      <td>Black</td>\n",
              "      <td>Female</td>\n",
              "      <td>260</td>\n",
              "      <td>38</td>\n",
              "    </tr>\n",
              "    <tr>\n",
              "      <th>2</th>\n",
              "      <td>NJCADC0000010963</td>\n",
              "      <td>SKALLA</td>\n",
              "      <td>WILLIAM</td>\n",
              "      <td>CORY</td>\n",
              "      <td>2017-07-29</td>\n",
              "      <td>07/31/2017</td>\n",
              "      <td>GPD</td>\n",
              "      <td>201016096</td>\n",
              "      <td>510000.0</td>\n",
              "      <td>Yes</td>\n",
              "      <td>[SEXUALLY ORIENTED MATERIALS-18, Felony - Bond...</td>\n",
              "      <td>White</td>\n",
              "      <td>Male</td>\n",
              "      <td>165</td>\n",
              "      <td>43</td>\n",
              "    </tr>\n",
              "    <tr>\n",
              "      <th>3</th>\n",
              "      <td>NJCADC0000014888</td>\n",
              "      <td>HARRIS</td>\n",
              "      <td>DONOVAN</td>\n",
              "      <td>MICHAEL</td>\n",
              "      <td>2018-02-16</td>\n",
              "      <td>02/16/2018</td>\n",
              "      <td>JCSO</td>\n",
              "      <td>201019477</td>\n",
              "      <td>0.0</td>\n",
              "      <td>No</td>\n",
              "      <td>[MURDER, Felony - Bond: $0.00, CHILD ABUSE - S...</td>\n",
              "      <td>White</td>\n",
              "      <td>Male</td>\n",
              "      <td>285</td>\n",
              "      <td>30</td>\n",
              "    </tr>\n",
              "    <tr>\n",
              "      <th>4</th>\n",
              "      <td>NJCADC0000017010</td>\n",
              "      <td>WILLIAMS</td>\n",
              "      <td>BERNARD</td>\n",
              "      <td>SHERMAN</td>\n",
              "      <td>2018-05-29</td>\n",
              "      <td>05/29/2018</td>\n",
              "      <td>JCSO</td>\n",
              "      <td>200995356</td>\n",
              "      <td>90000.0</td>\n",
              "      <td>No</td>\n",
              "      <td>[RETURN PER COURT ORDER, Misdemeanor - Bond: $...</td>\n",
              "      <td>Black</td>\n",
              "      <td>Male</td>\n",
              "      <td>180</td>\n",
              "      <td>24</td>\n",
              "    </tr>\n",
              "  </tbody>\n",
              "</table>\n",
              "</div>\n",
              "      <button class=\"colab-df-convert\" onclick=\"convertToInteractive('df-bba03e9f-4511-4942-a286-74085682de08')\"\n",
              "              title=\"Convert this dataframe to an interactive table.\"\n",
              "              style=\"display:none;\">\n",
              "        \n",
              "  <svg xmlns=\"http://www.w3.org/2000/svg\" height=\"24px\"viewBox=\"0 0 24 24\"\n",
              "       width=\"24px\">\n",
              "    <path d=\"M0 0h24v24H0V0z\" fill=\"none\"/>\n",
              "    <path d=\"M18.56 5.44l.94 2.06.94-2.06 2.06-.94-2.06-.94-.94-2.06-.94 2.06-2.06.94zm-11 1L8.5 8.5l.94-2.06 2.06-.94-2.06-.94L8.5 2.5l-.94 2.06-2.06.94zm10 10l.94 2.06.94-2.06 2.06-.94-2.06-.94-.94-2.06-.94 2.06-2.06.94z\"/><path d=\"M17.41 7.96l-1.37-1.37c-.4-.4-.92-.59-1.43-.59-.52 0-1.04.2-1.43.59L10.3 9.45l-7.72 7.72c-.78.78-.78 2.05 0 2.83L4 21.41c.39.39.9.59 1.41.59.51 0 1.02-.2 1.41-.59l7.78-7.78 2.81-2.81c.8-.78.8-2.07 0-2.86zM5.41 20L4 18.59l7.72-7.72 1.47 1.35L5.41 20z\"/>\n",
              "  </svg>\n",
              "      </button>\n",
              "      \n",
              "  <style>\n",
              "    .colab-df-container {\n",
              "      display:flex;\n",
              "      flex-wrap:wrap;\n",
              "      gap: 12px;\n",
              "    }\n",
              "\n",
              "    .colab-df-convert {\n",
              "      background-color: #E8F0FE;\n",
              "      border: none;\n",
              "      border-radius: 50%;\n",
              "      cursor: pointer;\n",
              "      display: none;\n",
              "      fill: #1967D2;\n",
              "      height: 32px;\n",
              "      padding: 0 0 0 0;\n",
              "      width: 32px;\n",
              "    }\n",
              "\n",
              "    .colab-df-convert:hover {\n",
              "      background-color: #E2EBFA;\n",
              "      box-shadow: 0px 1px 2px rgba(60, 64, 67, 0.3), 0px 1px 3px 1px rgba(60, 64, 67, 0.15);\n",
              "      fill: #174EA6;\n",
              "    }\n",
              "\n",
              "    [theme=dark] .colab-df-convert {\n",
              "      background-color: #3B4455;\n",
              "      fill: #D2E3FC;\n",
              "    }\n",
              "\n",
              "    [theme=dark] .colab-df-convert:hover {\n",
              "      background-color: #434B5C;\n",
              "      box-shadow: 0px 1px 3px 1px rgba(0, 0, 0, 0.15);\n",
              "      filter: drop-shadow(0px 1px 2px rgba(0, 0, 0, 0.3));\n",
              "      fill: #FFFFFF;\n",
              "    }\n",
              "  </style>\n",
              "\n",
              "      <script>\n",
              "        const buttonEl =\n",
              "          document.querySelector('#df-bba03e9f-4511-4942-a286-74085682de08 button.colab-df-convert');\n",
              "        buttonEl.style.display =\n",
              "          google.colab.kernel.accessAllowed ? 'block' : 'none';\n",
              "\n",
              "        async function convertToInteractive(key) {\n",
              "          const element = document.querySelector('#df-bba03e9f-4511-4942-a286-74085682de08');\n",
              "          const dataTable =\n",
              "            await google.colab.kernel.invokeFunction('convertToInteractive',\n",
              "                                                     [key], {});\n",
              "          if (!dataTable) return;\n",
              "\n",
              "          const docLinkHtml = 'Like what you see? Visit the ' +\n",
              "            '<a target=\"_blank\" href=https://colab.research.google.com/notebooks/data_table.ipynb>data table notebook</a>'\n",
              "            + ' to learn more about interactive tables.';\n",
              "          element.innerHTML = '';\n",
              "          dataTable['output_type'] = 'display_data';\n",
              "          await google.colab.output.renderOutput(dataTable, element);\n",
              "          const docLink = document.createElement('div');\n",
              "          docLink.innerHTML = docLinkHtml;\n",
              "          element.appendChild(docLink);\n",
              "        }\n",
              "      </script>\n",
              "    </div>\n",
              "  </div>\n",
              "  "
            ],
            "text/plain": [
              "        Book_Number Name_Last Name_Middle  ...     Sex Weight (Pounds) Age\n",
              "0  NJCADC0000008926  STAFFORD      ELLIOT  ...    Male             160  44\n",
              "1  NJCADC0000010774     PRICE      LAKENA  ...  Female             260  38\n",
              "2  NJCADC0000010963    SKALLA     WILLIAM  ...    Male             165  43\n",
              "3  NJCADC0000014888    HARRIS     DONOVAN  ...    Male             285  30\n",
              "4  NJCADC0000017010  WILLIAMS     BERNARD  ...    Male             180  24\n",
              "\n",
              "[5 rows x 15 columns]"
            ]
          },
          "metadata": {},
          "execution_count": 94
        }
      ]
    },
    {
      "cell_type": "markdown",
      "source": [
        "# **Create Offense Table**"
      ],
      "metadata": {
        "id": "EkwavoLTfxC3"
      }
    },
    {
      "cell_type": "code",
      "source": [
        "def create_row(id_Number, offense, category, bond):\n",
        "    \"\"\"Add a row to the offense dataframe.\n",
        "    Take in all features and put them into a dictionary.\n",
        "    \"\"\"\n",
        "    row = {'ID_Number': id_Number, 'Offense': offense, 'Category': category, 'Bond': bond}\n",
        "    return row"
      ],
      "metadata": {
        "id": "b9b4cAg7WPkE"
      },
      "execution_count": 95,
      "outputs": []
    },
    {
      "cell_type": "code",
      "source": [
        "offense_data = pd.DataFrame(columns=['ID_Number', 'Offense', 'Category', 'Bond'])\n",
        "\n",
        "# Pass through each inmates offense list and add every offense as a seperate row to the offense dataframe\n",
        "for i in range(0, len(df_new)):\n",
        "    id_Number = df_new['ID_Number'][i]\n",
        "\n",
        "    offense_list = df_new['inmate_offense'][i]\n",
        "\n",
        "    if len(offense_list) % 2 != 0:\n",
        "        print(i)\n",
        "        print(\"Error: The offense list is not an even length!\")\n",
        "        print(offense_list)\n",
        "\n",
        "    total_crimes = len(offense_list) // 2\n",
        "\n",
        "    start_ind = 0\n",
        "    for _ in range(0, total_crimes):\n",
        "        offense = offense_list[start_ind]\n",
        "        category = offense_list[start_ind + 1].split(\" \")[0]\n",
        "        bond = offense_list[start_ind + 1].split(\" \")[-1]\n",
        "        start_ind += 2\n",
        "\n",
        "        row = create_row(id_Number, offense, category, bond)\n",
        "\n",
        "        offense_data = offense_data.append(row, ignore_index=True)"
      ],
      "metadata": {
        "id": "zkgJYQeNYNcs"
      },
      "execution_count": 96,
      "outputs": []
    },
    {
      "cell_type": "markdown",
      "source": [
        "# **Save to Drive**"
      ],
      "metadata": {
        "id": "mOijumUfgNlg"
      }
    },
    {
      "cell_type": "code",
      "source": [
        "data_cleaned.to_csv(JACKSON_DIR + 'jackson_data_cleaned.csv')\n",
        "offense_data.to_csv(JACKSON_DIR + 'jackson_offense_data_merged.csv')"
      ],
      "metadata": {
        "id": "NSI2asTrhDxH"
      },
      "execution_count": 97,
      "outputs": []
    }
  ],
  "metadata": {
    "colab": {
      "name": "clean_jackson.ipynb",
      "provenance": [],
      "collapsed_sections": []
    },
    "kernelspec": {
      "display_name": "Python 3",
      "name": "python3"
    },
    "language_info": {
      "name": "python"
    }
  },
  "nbformat": 4,
  "nbformat_minor": 0
}